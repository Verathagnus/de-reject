{
  "nbformat": 4,
  "nbformat_minor": 0,
  "metadata": {
    "colab": {
      "name": "Swiggy-Model.ipynb",
      "provenance": []
    },
    "kernelspec": {
      "name": "python3",
      "display_name": "Python 3"
    },
    "language_info": {
      "name": "python"
    }
  },
  "cells": [
    {
      "cell_type": "code",
      "metadata": {
        "colab": {
          "base_uri": "https://localhost:8080/"
        },
        "id": "UoTIxL0mElFz",
        "outputId": "7ddc7f2d-f838-4e86-dcdf-7a14cdc32905"
      },
      "source": [
        "from google.colab import drive\n",
        "drive.mount('/content/drive')"
      ],
      "execution_count": null,
      "outputs": [
        {
          "output_type": "stream",
          "text": [
            "Mounted at /content/drive\n"
          ],
          "name": "stdout"
        }
      ]
    },
    {
      "cell_type": "code",
      "metadata": {
        "id": "akk4nwrHE9x5",
        "colab": {
          "base_uri": "https://localhost:8080/"
        },
        "outputId": "f32e0776-b647-4134-d87a-e9cc1ad089d1"
      },
      "source": [
        "mkdir /content/drive/MyDrive/de-reject"
      ],
      "execution_count": null,
      "outputs": [
        {
          "output_type": "stream",
          "text": [
            "mkdir: cannot create directory ‘/content/drive/MyDrive/de-reject’: File exists\n"
          ],
          "name": "stdout"
        }
      ]
    },
    {
      "cell_type": "code",
      "metadata": {
        "colab": {
          "base_uri": "https://localhost:8080/"
        },
        "id": "74NXhrHVwP2P",
        "outputId": "ad64ce4d-754c-494f-d8a5-d70d95b0891d"
      },
      "source": [
        "cd /content/drive/MyDrive/de-reject/Data"
      ],
      "execution_count": null,
      "outputs": [
        {
          "output_type": "stream",
          "text": [
            "/content/drive/MyDrive/de-reject/Data\n"
          ],
          "name": "stdout"
        }
      ]
    },
    {
      "cell_type": "code",
      "metadata": {
        "colab": {
          "base_uri": "https://localhost:8080/"
        },
        "id": "yygrA4-hvJ_J",
        "outputId": "9a514bd1-2cdb-49cd-bdc4-87d6846d35b9"
      },
      "source": [
        "!unzip *.zip"
      ],
      "execution_count": null,
      "outputs": [
        {
          "output_type": "stream",
          "text": [
            "Archive:  Data.zip\n",
            "   creating: Data/\n",
            "  inflating: Data/Assignment_Data.csv  \n",
            "  inflating: Data/Delivery_Partners_Data.csv  \n"
          ],
          "name": "stdout"
        }
      ]
    },
    {
      "cell_type": "code",
      "metadata": {
        "id": "ZaZUqGKyvMO9"
      },
      "source": [
        "ls"
      ],
      "execution_count": null,
      "outputs": []
    },
    {
      "cell_type": "code",
      "metadata": {
        "id": "Y_I7NMCjwc6h"
      },
      "source": [
        "import pandas as pd\n",
        "import numpy as np\n",
        "from sklearn import preprocessing\n",
        "from sklearn.preprocessing import LabelEncoder, OneHotEncoder"
      ],
      "execution_count": null,
      "outputs": []
    },
    {
      "cell_type": "code",
      "metadata": {
        "colab": {
          "base_uri": "https://localhost:8080/"
        },
        "id": "GkSkWXbHFkWQ",
        "outputId": "2aa65a69-8499-485c-f470-3df9cccb5b2f"
      },
      "source": [
        "!unzip *.zip"
      ],
      "execution_count": null,
      "outputs": [
        {
          "output_type": "stream",
          "text": [
            "Archive:  85561676e53d11eb_2.zip\n",
            "   creating: dataset/\n",
            "  inflating: dataset/sample_submission.csv  \n",
            "  inflating: dataset/train.csv       \n",
            "  inflating: dataset/test.csv        \n"
          ],
          "name": "stdout"
        }
      ]
    },
    {
      "cell_type": "code",
      "metadata": {
        "colab": {
          "base_uri": "https://localhost:8080/"
        },
        "id": "NjPH6P1IG_Pg",
        "outputId": "3ae092b7-53b5-4389-86d2-c09a160ca589"
      },
      "source": [
        "ls"
      ],
      "execution_count": null,
      "outputs": [
        {
          "output_type": "stream",
          "text": [
            "Assignment_Data.csv  Delivery_Partners_Data.csv\n"
          ],
          "name": "stdout"
        }
      ]
    },
    {
      "cell_type": "code",
      "metadata": {
        "id": "xUPZx8DDwc9t"
      },
      "source": [
        "ad = pd.read_csv(\"Assignment_Data.csv\")\n",
        "de = pd.read_csv(\"Delivery_Partners_Data.csv\")"
      ],
      "execution_count": null,
      "outputs": []
    },
    {
      "cell_type": "code",
      "metadata": {
        "id": "aON9gjbZHbZ0"
      },
      "source": [
        "df = pd.merge(ad, de, on=\"DE_ID\")"
      ],
      "execution_count": null,
      "outputs": []
    },
    {
      "cell_type": "code",
      "metadata": {
        "id": "z9GWXG7EIfIB"
      },
      "source": [
        "numeric_columns = df.select_dtypes(include=['number']).columns\n",
        "numeric_columns = numeric_columns.tolist()"
      ],
      "execution_count": null,
      "outputs": []
    },
    {
      "cell_type": "code",
      "metadata": {
        "id": "jjCmr2xYIy6c"
      },
      "source": [
        "cat_columns = df.select_dtypes(include=['object']).columns\n",
        "cat_columns = cat_columns.tolist()"
      ],
      "execution_count": null,
      "outputs": []
    },
    {
      "cell_type": "code",
      "metadata": {
        "id": "PHdLIe7TQbAD"
      },
      "source": [
        "cat_columns"
      ],
      "execution_count": null,
      "outputs": []
    },
    {
      "cell_type": "code",
      "metadata": {
        "id": "t1aurpJaQX87"
      },
      "source": [
        "numeric_columns"
      ],
      "execution_count": null,
      "outputs": []
    },
    {
      "cell_type": "code",
      "metadata": {
        "id": "ATJnbZ7edo3A"
      },
      "source": [
        ""
      ],
      "execution_count": null,
      "outputs": []
    },
    {
      "cell_type": "code",
      "metadata": {
        "id": "jivC7pVTd19y"
      },
      "source": [
        "modes = dict()\n",
        "means = dict()"
      ],
      "execution_count": null,
      "outputs": []
    },
    {
      "cell_type": "code",
      "metadata": {
        "id": "RUVZvx6bcMiT",
        "colab": {
          "base_uri": "https://localhost:8080/"
        },
        "outputId": "e8abae29-c63f-470b-b1e3-bd5c41df4889"
      },
      "source": [
        "for column in df[numeric_columns]:\n",
        "    mode = df[column].mean()\n",
        "    print(mode)\n",
        "    modes[column] = mode\n",
        "    # df[column] = df[column].fillna(mode)\n",
        "    df[column] = df[column].replace(np.nan, mode)"
      ],
      "execution_count": null,
      "outputs": [
        {
          "output_type": "stream",
          "text": [
            "62266.26130338233\n",
            "615638.894088856\n",
            "0.060788253244104716\n",
            "432.8641769398092\n",
            "364.8571212510735\n",
            "403.57953834766465\n",
            "2764.807124351353\n",
            "24.165407797936464\n",
            "489.92653685014886\n",
            "37.38910395510759\n",
            "72.8590439996829\n",
            "37.37598328629076\n",
            "72.88206871033466\n",
            "484.0220402737284\n"
          ],
          "name": "stdout"
        }
      ]
    },
    {
      "cell_type": "code",
      "metadata": {
        "id": "7WIvUy5HcJvo",
        "colab": {
          "base_uri": "https://localhost:8080/"
        },
        "outputId": "1d80a19b-2e98-4e87-da56-c8cf73aecf19"
      },
      "source": [
        "for column in df[cat_columns]:\n",
        "    mode = df[column].mode()[0]\n",
        "    print(mode)\n",
        "    means[column] = mode\n",
        "    df[column] = df[column].replace(np.nan, mode)"
      ],
      "execution_count": null,
      "outputs": [
        {
          "output_type": "stream",
          "text": [
            "2021-03-05 03:43:22.000\n",
            "2021-03-03 03:06:20.000\n",
            "Type-1\n",
            "2021-02-14 05:32:59.753\n",
            "2021-02-14 07:35:48.000\n",
            "2021-02-26 03:12:32.000\n",
            "05:42\n",
            "2020-08-09\n"
          ],
          "name": "stdout"
        }
      ]
    },
    {
      "cell_type": "code",
      "metadata": {
        "colab": {
          "base_uri": "https://localhost:8080/"
        },
        "id": "MivpUPMIYyxe",
        "outputId": "b716afe9-9f4c-418d-a88a-a8ee480a9c4f"
      },
      "source": [
        "df.isna().any()"
      ],
      "execution_count": null,
      "outputs": [
        {
          "output_type": "execute_result",
          "data": {
            "text/plain": [
              "ORDER_ID                    False\n",
              "DE_ID                       False\n",
              "ASSIGNMENT_START_TIME       False\n",
              "ASSIGNMENT_END_TIME         False\n",
              "reject_ind                  False\n",
              "reject_type                 False\n",
              "PLACED_TIME                 False\n",
              "DELIVERED_TIME              False\n",
              "LASTMILE_DISTANCE           False\n",
              "FIRSTMILE_DISTANCE          False\n",
              "LAST_MILE_TIME_PREDICTED    False\n",
              "PAYOUT_MADE_TO_DE           False\n",
              "NUM_PING_COUNT_LAST10MIN    False\n",
              "LAST_PING_TIME_LAST10MIN    False\n",
              "CUSTOMER_ZONE               False\n",
              "CUSTOMER_LAT                False\n",
              "CUSTOMER_LNG                False\n",
              "SHIFT_END_TIME              False\n",
              "DE_HOME_LAT                 False\n",
              "DE_HOME_LNG                 False\n",
              "DE_JOINING_DATE             False\n",
              "DE_ZONE_ID                  False\n",
              "dtype: bool"
            ]
          },
          "metadata": {
            "tags": []
          },
          "execution_count": 404
        }
      ]
    },
    {
      "cell_type": "code",
      "metadata": {
        "id": "B9EBBZC1WwRW",
        "colab": {
          "base_uri": "https://localhost:8080/"
        },
        "outputId": "e365c71c-44ad-46ff-ff55-05e02d3d6b5c"
      },
      "source": [
        "sum(df.isna().any())"
      ],
      "execution_count": null,
      "outputs": [
        {
          "output_type": "execute_result",
          "data": {
            "text/plain": [
              "0"
            ]
          },
          "metadata": {
            "tags": []
          },
          "execution_count": 405
        }
      ]
    },
    {
      "cell_type": "code",
      "metadata": {
        "id": "l0fOHdR0bxEV"
      },
      "source": [
        "df.dtypes"
      ],
      "execution_count": null,
      "outputs": []
    },
    {
      "cell_type": "code",
      "metadata": {
        "id": "Gx8yUiodVFBF"
      },
      "source": [
        "df.head()"
      ],
      "execution_count": null,
      "outputs": []
    },
    {
      "cell_type": "code",
      "metadata": {
        "id": "mtwATEQwcUqX"
      },
      "source": [
        "date_cols = [\"DE_JOINING_DATE\"]\n",
        "time_cols = [\"SHIFT_END_TIME\"]\n",
        "# datetime_cols_nl = [\"ASSIGNMENT_END_TIME\", \"PLACED_TIME\", \"DELIVERED_TIME\"]\n",
        "datetime_cols = [\"ASSIGNMENT_START_TIME\", \"LAST_PING_TIME_LAST10MIN\", \"ASSIGNMENT_END_TIME\", \"PLACED_TIME\", \"DELIVERED_TIME\"]"
      ],
      "execution_count": null,
      "outputs": []
    },
    {
      "cell_type": "code",
      "metadata": {
        "id": "hYKbnjLwdXhs"
      },
      "source": [
        "for i in date_cols:\n",
        "  df[i] = pd.to_datetime(df[i], format = '%Y-%m-%d', errors = 'coerce')"
      ],
      "execution_count": null,
      "outputs": []
    },
    {
      "cell_type": "code",
      "metadata": {
        "id": "lSs5KmqhdvSV"
      },
      "source": [
        "for i in time_cols:\n",
        "  df[i] = pd.to_datetime(df[i], format = '%H:%M', errors = 'coerce')"
      ],
      "execution_count": null,
      "outputs": []
    },
    {
      "cell_type": "code",
      "metadata": {
        "id": "YlDjufx6d8Yz"
      },
      "source": [
        "for i in datetime_cols:\n",
        "  df[i] = pd.to_datetime(df[i], format = '%Y-%m-%d %H:%M:%S', errors = 'coerce')"
      ],
      "execution_count": null,
      "outputs": []
    },
    {
      "cell_type": "code",
      "metadata": {
        "id": "SaGgpmQNmIwc"
      },
      "source": [
        "df"
      ],
      "execution_count": null,
      "outputs": []
    },
    {
      "cell_type": "code",
      "metadata": {
        "id": "o0Ns-awomJFe"
      },
      "source": [
        "date_cols = [\"DE_JOINING_DATE\"]\n",
        "time_cols = [\"SHIFT_END_TIME\"]\n",
        "# datetime_cols_nl = [\"ASSIGNMENT_END_TIME\", \"PLACED_TIME\", \"DELIVERED_TIME\"]\n",
        "datetime_cols = [\"ASSIGNMENT_START_TIME\", \"LAST_PING_TIME_LAST10MIN\", \"ASSIGNMENT_END_TIME\", \"PLACED_TIME\", \"DELIVERED_TIME\"]"
      ],
      "execution_count": null,
      "outputs": []
    },
    {
      "cell_type": "code",
      "metadata": {
        "id": "uDwLmUEHmJFg"
      },
      "source": [
        "for i in date_cols:\n",
        "  df[i+'_year'] = df[i].dt.year\n",
        "  df[i+'_month'] = df[i].dt.month\n",
        "  df[i+'_day'] = df[i].dt.day\n",
        "  df.pop(i)"
      ],
      "execution_count": null,
      "outputs": []
    },
    {
      "cell_type": "code",
      "metadata": {
        "id": "4xVVA5h0mJFh"
      },
      "source": [
        "for i in time_cols:\n",
        "  df[i+'_hour'] = df[i].dt.hour\n",
        "  df[i+'_minute'] = df[i].dt.minute\n",
        "  df.pop(i)"
      ],
      "execution_count": null,
      "outputs": []
    },
    {
      "cell_type": "code",
      "metadata": {
        "id": "1u0gTYlhmJFi"
      },
      "source": [
        "for i in datetime_cols:\n",
        "  df[i+'_year'] = df[i].dt.year\n",
        "  df[i+'_month'] = df[i].dt.month\n",
        "  df[i+'_day'] = df[i].dt.day\n",
        "  df[i+'_hour'] = df[i].dt.hour\n",
        "  df[i+'_minute'] = df[i].dt.minute\n",
        "  df[i+'_second'] = df[i].dt.second\n",
        "  df.pop(i)"
      ],
      "execution_count": null,
      "outputs": []
    },
    {
      "cell_type": "code",
      "metadata": {
        "id": "O5P-6CGz8s3Q"
      },
      "source": [
        "#Identify categorical and continuous variables\n",
        "ID_col = ['ORDER_ID']\n",
        "target_col = [\"reject_ind\", \"reject_type\"]"
      ],
      "execution_count": null,
      "outputs": []
    },
    {
      "cell_type": "code",
      "metadata": {
        "id": "dLX0BvZsoBfv"
      },
      "source": [
        "df"
      ],
      "execution_count": null,
      "outputs": []
    },
    {
      "cell_type": "code",
      "metadata": {
        "id": "ewQXT8UjtBHb"
      },
      "source": [
        "from sklearn.compose import ColumnTransformer"
      ],
      "execution_count": null,
      "outputs": []
    },
    {
      "cell_type": "code",
      "metadata": {
        "id": "6muDJSeVa4aQ"
      },
      "source": [
        "cat_cols = ['reject_type']\n",
        "\n",
        "for var in cat_cols:\n",
        "    number = LabelEncoder()\n",
        "    number.fit(df[var])\n",
        "    df[var] = number.transform(df[var])"
      ],
      "execution_count": null,
      "outputs": []
    },
    {
      "cell_type": "code",
      "metadata": {
        "id": "DJWq3sUFsIBx"
      },
      "source": [
        "target_col = [2, 3]"
      ],
      "execution_count": null,
      "outputs": []
    },
    {
      "cell_type": "code",
      "metadata": {
        "id": "I8TY3qZqXLzE"
      },
      "source": [
        "X = df.iloc[:, 1:].values\n",
        "y = df.iloc[:, target_col].values"
      ],
      "execution_count": null,
      "outputs": []
    },
    {
      "cell_type": "code",
      "metadata": {
        "id": "QNMaBxKko0QK"
      },
      "source": [
        "training_portion = .8\n",
        "train_size = int(len(X) * training_portion)"
      ],
      "execution_count": null,
      "outputs": []
    },
    {
      "cell_type": "code",
      "metadata": {
        "id": "aJGxFQ9HrfvC"
      },
      "source": [
        "train_data = X[0: train_size]\n",
        "train_labels = y[0: train_size]\n",
        "\n",
        "validation_data = X[train_size:]\n",
        "validation_labels = y[train_size:]"
      ],
      "execution_count": null,
      "outputs": []
    },
    {
      "cell_type": "code",
      "metadata": {
        "colab": {
          "base_uri": "https://localhost:8080/"
        },
        "id": "uSieR58Ortms",
        "outputId": "afd8bee7-828e-47c8-88c9-68e720b47f2d"
      },
      "source": [
        "print(train_size)\n",
        "print(len(train_data))\n",
        "print(len(train_labels))\n",
        "print(len(validation_data))\n",
        "print(len(validation_labels))"
      ],
      "execution_count": null,
      "outputs": [
        {
          "output_type": "stream",
          "text": [
            "105915\n",
            "105915\n",
            "105915\n",
            "26479\n",
            "26479\n"
          ],
          "name": "stdout"
        }
      ]
    },
    {
      "cell_type": "markdown",
      "metadata": {
        "id": "0x-4cTfEf3ZL"
      },
      "source": [
        "# Logistic Regression"
      ]
    },
    {
      "cell_type": "code",
      "metadata": {
        "id": "RSYXEPfVhHXg"
      },
      "source": [
        "from sklearn.linear_model import LogisticRegression\n",
        "from sklearn.multioutput import MultiOutputRegressor\n",
        "model = MultiOutputRegressor(LogisticRegression(multi_class='ovr', max_iter=1000))\n",
        "model.fit(train_data, train_labels)\n",
        "y_pred = model.predict(validation_data)"
      ],
      "execution_count": null,
      "outputs": []
    },
    {
      "cell_type": "code",
      "metadata": {
        "id": "4CtLjuFY3fj0"
      },
      "source": [
        "model.fit(train_data, train_labels)"
      ],
      "execution_count": null,
      "outputs": []
    },
    {
      "cell_type": "code",
      "metadata": {
        "colab": {
          "base_uri": "https://localhost:8080/"
        },
        "id": "LH2odAIntsu9",
        "outputId": "bb48e904-7f1f-4a12-fb25-4180def63065"
      },
      "source": [
        "model.score(validation_data, validation_labels)"
      ],
      "execution_count": null,
      "outputs": [
        {
          "output_type": "execute_result",
          "data": {
            "text/plain": [
              "0.5601760622298224"
            ]
          },
          "metadata": {
            "tags": []
          },
          "execution_count": 159
        }
      ]
    },
    {
      "cell_type": "markdown",
      "metadata": {
        "id": "cWVLt4iGSd2G"
      },
      "source": [
        "# KNN"
      ]
    },
    {
      "cell_type": "code",
      "metadata": {
        "id": "1ybRiGuxHZHE"
      },
      "source": [
        "from sklearn.neighbors import KNeighborsRegressor"
      ],
      "execution_count": null,
      "outputs": []
    },
    {
      "cell_type": "code",
      "metadata": {
        "id": "x4m7mgLJSOTZ",
        "colab": {
          "base_uri": "https://localhost:8080/"
        },
        "outputId": "178dccee-fc50-49e9-b92d-11887958e235"
      },
      "source": [
        "knn = KNeighborsRegressor()\n",
        "knn.fit(train_data, train_labels)"
      ],
      "execution_count": null,
      "outputs": [
        {
          "output_type": "execute_result",
          "data": {
            "text/plain": [
              "KNeighborsRegressor(algorithm='auto', leaf_size=30, metric='minkowski',\n",
              "                    metric_params=None, n_jobs=None, n_neighbors=5, p=2,\n",
              "                    weights='uniform')"
            ]
          },
          "metadata": {
            "tags": []
          },
          "execution_count": 225
        }
      ]
    },
    {
      "cell_type": "code",
      "metadata": {
        "colab": {
          "base_uri": "https://localhost:8080/"
        },
        "id": "n76xk_kTO5GU",
        "outputId": "b1d06c3c-0088-4004-ed91-ec62e011ff7f"
      },
      "source": [
        "knn.score(validation_data, validation_labels)"
      ],
      "execution_count": null,
      "outputs": [
        {
          "output_type": "stream",
          "text": [
            "/usr/local/lib/python3.7/dist-packages/sklearn/base.py:434: FutureWarning: The default value of multioutput (not exposed in score method) will change from 'variance_weighted' to 'uniform_average' in 0.23 to keep consistent with 'metrics.r2_score'. To specify the default value manually and avoid the warning, please either call 'metrics.r2_score' directly or make a custom scorer with 'metrics.make_scorer' (the built-in scorer 'r2' uses multioutput='uniform_average').\n",
            "  \"multioutput='uniform_average').\", FutureWarning)\n"
          ],
          "name": "stderr"
        },
        {
          "output_type": "execute_result",
          "data": {
            "text/plain": [
              "0.516615744112381"
            ]
          },
          "metadata": {
            "tags": []
          },
          "execution_count": 226
        }
      ]
    },
    {
      "cell_type": "markdown",
      "metadata": {
        "id": "73gQ32b6PGSC"
      },
      "source": [
        "# Decision Tree"
      ]
    },
    {
      "cell_type": "code",
      "metadata": {
        "id": "rCQUpDLhO5CV"
      },
      "source": [
        "from sklearn.tree import DecisionTreeRegressor"
      ],
      "execution_count": null,
      "outputs": []
    },
    {
      "cell_type": "code",
      "metadata": {
        "colab": {
          "base_uri": "https://localhost:8080/"
        },
        "id": "vjK7ER2sO4_W",
        "outputId": "c15c4a95-163a-4379-cbdb-34276a283ac6"
      },
      "source": [
        "dt = DecisionTreeRegressor()\n",
        "dt.fit(train_data, train_labels)"
      ],
      "execution_count": null,
      "outputs": [
        {
          "output_type": "execute_result",
          "data": {
            "text/plain": [
              "DecisionTreeRegressor(ccp_alpha=0.0, criterion='mse', max_depth=None,\n",
              "                      max_features=None, max_leaf_nodes=None,\n",
              "                      min_impurity_decrease=0.0, min_impurity_split=None,\n",
              "                      min_samples_leaf=1, min_samples_split=2,\n",
              "                      min_weight_fraction_leaf=0.0, presort='deprecated',\n",
              "                      random_state=None, splitter='best')"
            ]
          },
          "metadata": {
            "tags": []
          },
          "execution_count": 228
        }
      ]
    },
    {
      "cell_type": "code",
      "metadata": {
        "colab": {
          "base_uri": "https://localhost:8080/"
        },
        "id": "BL2yNHn2PIo3",
        "outputId": "5903aa9b-891d-401a-eeb4-c816ff8d93dd"
      },
      "source": [
        "dt.score(validation_data, validation_labels)"
      ],
      "execution_count": null,
      "outputs": [
        {
          "output_type": "stream",
          "text": [
            "/usr/local/lib/python3.7/dist-packages/sklearn/base.py:434: FutureWarning: The default value of multioutput (not exposed in score method) will change from 'variance_weighted' to 'uniform_average' in 0.23 to keep consistent with 'metrics.r2_score'. To specify the default value manually and avoid the warning, please either call 'metrics.r2_score' directly or make a custom scorer with 'metrics.make_scorer' (the built-in scorer 'r2' uses multioutput='uniform_average').\n",
            "  \"multioutput='uniform_average').\", FutureWarning)\n"
          ],
          "name": "stderr"
        },
        {
          "output_type": "execute_result",
          "data": {
            "text/plain": [
              "1.0"
            ]
          },
          "metadata": {
            "tags": []
          },
          "execution_count": 230
        }
      ]
    },
    {
      "cell_type": "code",
      "metadata": {
        "id": "i-AGocAkPYJw"
      },
      "source": [
        "y_pred_dt = dt.predict(validation_data)"
      ],
      "execution_count": null,
      "outputs": []
    },
    {
      "cell_type": "code",
      "metadata": {
        "colab": {
          "base_uri": "https://localhost:8080/"
        },
        "id": "kLn5RjCfPeqS",
        "outputId": "d5cc76c8-11db-473c-dc60-ef91ef9e4413"
      },
      "source": [
        "y_pred_dt"
      ],
      "execution_count": null,
      "outputs": [
        {
          "output_type": "execute_result",
          "data": {
            "text/plain": [
              "array([[0., 0.],\n",
              "       [0., 0.],\n",
              "       [0., 0.],\n",
              "       ...,\n",
              "       [1., 1.],\n",
              "       [1., 0.],\n",
              "       [1., 2.]])"
            ]
          },
          "metadata": {
            "tags": []
          },
          "execution_count": 232
        }
      ]
    },
    {
      "cell_type": "markdown",
      "metadata": {
        "id": "OWA0bh3PPrY_"
      },
      "source": [
        "# Evaluation"
      ]
    },
    {
      "cell_type": "code",
      "metadata": {
        "id": "FeX0pMo-Px5P"
      },
      "source": [
        "from numpy import absolute\n",
        "from numpy import mean\n",
        "from numpy import std\n",
        "from sklearn.datasets import make_regression\n",
        "from sklearn.tree import DecisionTreeRegressor\n",
        "from sklearn.model_selection import cross_val_score\n",
        "from sklearn.model_selection import RepeatedKFold"
      ],
      "execution_count": null,
      "outputs": []
    },
    {
      "cell_type": "code",
      "metadata": {
        "id": "rK2tHBGwQOrk"
      },
      "source": [
        "validation_data validation_labels\n",
        "train_data train_labels"
      ],
      "execution_count": null,
      "outputs": []
    },
    {
      "cell_type": "code",
      "metadata": {
        "colab": {
          "base_uri": "https://localhost:8080/"
        },
        "id": "PGNMnYCEPs_b",
        "outputId": "3a67e74e-04b8-456e-cc64-96d2b2d1ac2e"
      },
      "source": [
        "cv = RepeatedKFold(n_splits=10, n_repeats=3, random_state=1)\n",
        "# evaluate the model and collect the scores\n",
        "n_scores = cross_val_score(model, train_data, train_labels, scoring='neg_mean_absolute_error', cv=cv, n_jobs=-1)\n",
        "# force the scores to be positive\n",
        "n_scores = absolute(n_scores)\n",
        "# summarize performance\n",
        "print('MAE: %.3f (%.3f)' % (mean(n_scores), std(n_scores)))\n",
        "\n"
      ],
      "execution_count": null,
      "outputs": [
        {
          "output_type": "stream",
          "text": [
            "MAE: 0.023 (0.002)\n"
          ],
          "name": "stdout"
        }
      ]
    },
    {
      "cell_type": "code",
      "metadata": {
        "colab": {
          "base_uri": "https://localhost:8080/"
        },
        "id": "jg9AF8JVQ8Au",
        "outputId": "b5c7cb15-762c-44fb-eca1-283f7ab7d421"
      },
      "source": [
        "n_scores = cross_val_score(model, validation_data, validation_labels, scoring='neg_mean_absolute_error', cv=cv, n_jobs=-1)\n",
        "# force the scores to be positive\n",
        "n_scores = absolute(n_scores)\n",
        "# summarize performance\n",
        "print('MAE: %.3f (%.3f)' % (mean(n_scores), std(n_scores)))"
      ],
      "execution_count": null,
      "outputs": [
        {
          "output_type": "stream",
          "text": [
            "MAE: 0.033 (0.003)\n"
          ],
          "name": "stdout"
        }
      ]
    },
    {
      "cell_type": "markdown",
      "metadata": {
        "id": "z0Zte2ZyRpZj"
      },
      "source": [
        "KNN"
      ]
    },
    {
      "cell_type": "code",
      "metadata": {
        "colab": {
          "base_uri": "https://localhost:8080/"
        },
        "id": "c6kkFmB3RkXU",
        "outputId": "3ea7a6a3-cd75-4ffb-ddb8-e600e5731ddb"
      },
      "source": [
        "cv = RepeatedKFold(n_splits=10, n_repeats=3, random_state=1)\n",
        "# evaluate the model and collect the scores\n",
        "n_scores = cross_val_score(knn, train_data, train_labels, scoring='neg_mean_absolute_error', cv=cv, n_jobs=-1)\n",
        "# force the scores to be positive\n",
        "n_scores = absolute(n_scores)\n",
        "# summarize performance\n",
        "print('MAE: %.3f (%.3f)' % (mean(n_scores), std(n_scores)))\n"
      ],
      "execution_count": null,
      "outputs": [
        {
          "output_type": "stream",
          "text": [
            "MAE: 0.024 (0.001)\n"
          ],
          "name": "stdout"
        }
      ]
    },
    {
      "cell_type": "code",
      "metadata": {
        "colab": {
          "base_uri": "https://localhost:8080/"
        },
        "id": "VVmucoF_Ro2u",
        "outputId": "41968a17-0064-4e31-bebb-843b165b45d1"
      },
      "source": [
        "n_scores = cross_val_score(knn, validation_data, validation_labels, scoring='neg_mean_absolute_error', cv=cv, n_jobs=-1)\n",
        "# force the scores to be positive\n",
        "n_scores = absolute(n_scores)\n",
        "# summarize performance\n",
        "print('MAE: %.3f (%.3f)' % (mean(n_scores), std(n_scores)))"
      ],
      "execution_count": null,
      "outputs": [
        {
          "output_type": "stream",
          "text": [
            "MAE: 0.036 (0.002)\n"
          ],
          "name": "stdout"
        }
      ]
    },
    {
      "cell_type": "markdown",
      "metadata": {
        "id": "SEMvayQqRumr"
      },
      "source": [
        "DT"
      ]
    },
    {
      "cell_type": "code",
      "metadata": {
        "colab": {
          "base_uri": "https://localhost:8080/"
        },
        "id": "JXx_1iNKRvdv",
        "outputId": "89e9e9e8-e403-4647-90cc-a6f62b00929f"
      },
      "source": [
        "cv = RepeatedKFold(n_splits=10, n_repeats=3, random_state=1)\n",
        "# evaluate the model and collect the scores\n",
        "n_scores = cross_val_score(dt, train_data, train_labels, scoring='neg_mean_absolute_error', cv=cv, n_jobs=-1)\n",
        "# force the scores to be positive\n",
        "n_scores = absolute(n_scores)\n",
        "# summarize performance\n",
        "print('MAE: %.3f (%.3f)' % (mean(n_scores), std(n_scores)))\n"
      ],
      "execution_count": null,
      "outputs": [
        {
          "output_type": "stream",
          "text": [
            "MAE: 0.000 (0.000)\n"
          ],
          "name": "stdout"
        }
      ]
    },
    {
      "cell_type": "code",
      "metadata": {
        "colab": {
          "base_uri": "https://localhost:8080/"
        },
        "id": "jDjKGRRBRv1I",
        "outputId": "d6c45cf0-248a-44b7-ea47-47c2b0ae993b"
      },
      "source": [
        "n_scores = cross_val_score(dt, validation_data, validation_labels, scoring='neg_mean_absolute_error', cv=cv, n_jobs=-1)\n",
        "# force the scores to be positive\n",
        "n_scores = absolute(n_scores)\n",
        "# summarize performance\n",
        "print('MAE: %.3f (%.3f)' % (mean(n_scores), std(n_scores)))"
      ],
      "execution_count": null,
      "outputs": [
        {
          "output_type": "stream",
          "text": [
            "MAE: 0.000 (0.000)\n"
          ],
          "name": "stdout"
        }
      ]
    },
    {
      "cell_type": "markdown",
      "metadata": {
        "id": "AAdeUiDFUrD1"
      },
      "source": [
        "# A Sample Usage of the Models"
      ]
    },
    {
      "cell_type": "code",
      "metadata": {
        "id": "Gk5JKWjWUtrl"
      },
      "source": [
        "ad_test = pd.read_csv(\"Assignment_Data.csv\", nrows=1)\n",
        "de = pd.read_csv(\"Delivery_Partners_Data.csv\")"
      ],
      "execution_count": null,
      "outputs": []
    },
    {
      "cell_type": "code",
      "metadata": {
        "colab": {
          "base_uri": "https://localhost:8080/"
        },
        "id": "yxyT6H0CU5ft",
        "outputId": "5e7c25e8-474e-4bd4-e3a6-fe0a40a45196"
      },
      "source": [
        "ad_test.pop('DE_ID')"
      ],
      "execution_count": null,
      "outputs": [
        {
          "output_type": "execute_result",
          "data": {
            "text/plain": [
              "0    180976\n",
              "Name: DE_ID, dtype: int64"
            ]
          },
          "metadata": {
            "tags": []
          },
          "execution_count": 378
        }
      ]
    },
    {
      "cell_type": "code",
      "metadata": {
        "colab": {
          "base_uri": "https://localhost:8080/",
          "height": 118
        },
        "id": "wJyvmBkoVEMB",
        "outputId": "c0d4130f-0ff1-445c-b02b-1c9801c3caa5"
      },
      "source": [
        "ad_test"
      ],
      "execution_count": null,
      "outputs": [
        {
          "output_type": "execute_result",
          "data": {
            "text/html": [
              "<div>\n",
              "<style scoped>\n",
              "    .dataframe tbody tr th:only-of-type {\n",
              "        vertical-align: middle;\n",
              "    }\n",
              "\n",
              "    .dataframe tbody tr th {\n",
              "        vertical-align: top;\n",
              "    }\n",
              "\n",
              "    .dataframe thead th {\n",
              "        text-align: right;\n",
              "    }\n",
              "</style>\n",
              "<table border=\"1\" class=\"dataframe\">\n",
              "  <thead>\n",
              "    <tr style=\"text-align: right;\">\n",
              "      <th></th>\n",
              "      <th>ORDER_ID</th>\n",
              "      <th>ASSIGNMENT_START_TIME</th>\n",
              "      <th>ASSIGNMENT_END_TIME</th>\n",
              "      <th>reject_ind</th>\n",
              "      <th>reject_type</th>\n",
              "      <th>PLACED_TIME</th>\n",
              "      <th>DELIVERED_TIME</th>\n",
              "      <th>LASTMILE_DISTANCE</th>\n",
              "      <th>FIRSTMILE_DISTANCE</th>\n",
              "      <th>LAST_MILE_TIME_PREDICTED</th>\n",
              "      <th>PAYOUT_MADE_TO_DE</th>\n",
              "      <th>NUM_PING_COUNT_LAST10MIN</th>\n",
              "      <th>LAST_PING_TIME_LAST10MIN</th>\n",
              "      <th>CUSTOMER_ZONE</th>\n",
              "      <th>CUSTOMER_LAT</th>\n",
              "      <th>CUSTOMER_LNG</th>\n",
              "    </tr>\n",
              "  </thead>\n",
              "  <tbody>\n",
              "    <tr>\n",
              "      <th>0</th>\n",
              "      <td>2745</td>\n",
              "      <td>2021-02-13 03:08:24.000</td>\n",
              "      <td>2021-02-13 03:38:26.000</td>\n",
              "      <td>0</td>\n",
              "      <td>NaN</td>\n",
              "      <td>2021-02-13 03:01:11.686</td>\n",
              "      <td>2021-02-13 03:43:26.000</td>\n",
              "      <td>320.9</td>\n",
              "      <td>320.0</td>\n",
              "      <td>314.0</td>\n",
              "      <td>1810.0</td>\n",
              "      <td>63</td>\n",
              "      <td>2021-02-13 03:07:34.000</td>\n",
              "      <td>373.0</td>\n",
              "      <td>37.377569</td>\n",
              "      <td>72.83256</td>\n",
              "    </tr>\n",
              "  </tbody>\n",
              "</table>\n",
              "</div>"
            ],
            "text/plain": [
              "   ORDER_ID    ASSIGNMENT_START_TIME  ... CUSTOMER_LAT  CUSTOMER_LNG\n",
              "0      2745  2021-02-13 03:08:24.000  ...    37.377569      72.83256\n",
              "\n",
              "[1 rows x 16 columns]"
            ]
          },
          "metadata": {
            "tags": []
          },
          "execution_count": 365
        }
      ]
    },
    {
      "cell_type": "code",
      "metadata": {
        "colab": {
          "base_uri": "https://localhost:8080/",
          "height": 101
        },
        "id": "A0pqQvyEZMMu",
        "outputId": "e6ed2dec-2125-481d-d6f2-710ad6b25659"
      },
      "source": [
        "df.head(1)"
      ],
      "execution_count": null,
      "outputs": [
        {
          "output_type": "execute_result",
          "data": {
            "text/html": [
              "<div>\n",
              "<style scoped>\n",
              "    .dataframe tbody tr th:only-of-type {\n",
              "        vertical-align: middle;\n",
              "    }\n",
              "\n",
              "    .dataframe tbody tr th {\n",
              "        vertical-align: top;\n",
              "    }\n",
              "\n",
              "    .dataframe thead th {\n",
              "        text-align: right;\n",
              "    }\n",
              "</style>\n",
              "<table border=\"1\" class=\"dataframe\">\n",
              "  <thead>\n",
              "    <tr style=\"text-align: right;\">\n",
              "      <th></th>\n",
              "      <th>ORDER_ID</th>\n",
              "      <th>DE_ID</th>\n",
              "      <th>reject_ind</th>\n",
              "      <th>reject_type</th>\n",
              "      <th>LASTMILE_DISTANCE</th>\n",
              "      <th>FIRSTMILE_DISTANCE</th>\n",
              "      <th>LAST_MILE_TIME_PREDICTED</th>\n",
              "      <th>PAYOUT_MADE_TO_DE</th>\n",
              "      <th>NUM_PING_COUNT_LAST10MIN</th>\n",
              "      <th>CUSTOMER_ZONE</th>\n",
              "      <th>CUSTOMER_LAT</th>\n",
              "      <th>CUSTOMER_LNG</th>\n",
              "      <th>DE_HOME_LAT</th>\n",
              "      <th>DE_HOME_LNG</th>\n",
              "      <th>DE_ZONE_ID</th>\n",
              "      <th>DE_JOINING_DATE_year</th>\n",
              "      <th>DE_JOINING_DATE_month</th>\n",
              "      <th>DE_JOINING_DATE_day</th>\n",
              "      <th>SHIFT_END_TIME_hour</th>\n",
              "      <th>SHIFT_END_TIME_minute</th>\n",
              "      <th>ASSIGNMENT_START_TIME_year</th>\n",
              "      <th>ASSIGNMENT_START_TIME_month</th>\n",
              "      <th>ASSIGNMENT_START_TIME_day</th>\n",
              "      <th>ASSIGNMENT_START_TIME_hour</th>\n",
              "      <th>ASSIGNMENT_START_TIME_minute</th>\n",
              "      <th>ASSIGNMENT_START_TIME_second</th>\n",
              "      <th>LAST_PING_TIME_LAST10MIN_year</th>\n",
              "      <th>LAST_PING_TIME_LAST10MIN_month</th>\n",
              "      <th>LAST_PING_TIME_LAST10MIN_day</th>\n",
              "      <th>LAST_PING_TIME_LAST10MIN_hour</th>\n",
              "      <th>LAST_PING_TIME_LAST10MIN_minute</th>\n",
              "      <th>LAST_PING_TIME_LAST10MIN_second</th>\n",
              "      <th>ASSIGNMENT_END_TIME_year</th>\n",
              "      <th>ASSIGNMENT_END_TIME_month</th>\n",
              "      <th>ASSIGNMENT_END_TIME_day</th>\n",
              "      <th>ASSIGNMENT_END_TIME_hour</th>\n",
              "      <th>ASSIGNMENT_END_TIME_minute</th>\n",
              "      <th>ASSIGNMENT_END_TIME_second</th>\n",
              "      <th>PLACED_TIME_year</th>\n",
              "      <th>PLACED_TIME_month</th>\n",
              "      <th>PLACED_TIME_day</th>\n",
              "      <th>PLACED_TIME_hour</th>\n",
              "      <th>PLACED_TIME_minute</th>\n",
              "      <th>PLACED_TIME_second</th>\n",
              "      <th>DELIVERED_TIME_year</th>\n",
              "      <th>DELIVERED_TIME_month</th>\n",
              "      <th>DELIVERED_TIME_day</th>\n",
              "      <th>DELIVERED_TIME_hour</th>\n",
              "      <th>DELIVERED_TIME_minute</th>\n",
              "      <th>DELIVERED_TIME_second</th>\n",
              "    </tr>\n",
              "  </thead>\n",
              "  <tbody>\n",
              "    <tr>\n",
              "      <th>0</th>\n",
              "      <td>2745</td>\n",
              "      <td>180976</td>\n",
              "      <td>0</td>\n",
              "      <td>0</td>\n",
              "      <td>320.9</td>\n",
              "      <td>320.0</td>\n",
              "      <td>314.0</td>\n",
              "      <td>1810.0</td>\n",
              "      <td>63</td>\n",
              "      <td>373.0</td>\n",
              "      <td>37.377569</td>\n",
              "      <td>72.83256</td>\n",
              "      <td>37.374634</td>\n",
              "      <td>72.871986</td>\n",
              "      <td>373</td>\n",
              "      <td>2019</td>\n",
              "      <td>10</td>\n",
              "      <td>25</td>\n",
              "      <td>5</td>\n",
              "      <td>42</td>\n",
              "      <td>2021</td>\n",
              "      <td>2</td>\n",
              "      <td>13</td>\n",
              "      <td>3</td>\n",
              "      <td>8</td>\n",
              "      <td>24</td>\n",
              "      <td>2021</td>\n",
              "      <td>2</td>\n",
              "      <td>13</td>\n",
              "      <td>3</td>\n",
              "      <td>7</td>\n",
              "      <td>34</td>\n",
              "      <td>2021</td>\n",
              "      <td>2</td>\n",
              "      <td>13</td>\n",
              "      <td>3</td>\n",
              "      <td>38</td>\n",
              "      <td>26</td>\n",
              "      <td>2021</td>\n",
              "      <td>2</td>\n",
              "      <td>13</td>\n",
              "      <td>3</td>\n",
              "      <td>1</td>\n",
              "      <td>11</td>\n",
              "      <td>2021</td>\n",
              "      <td>2</td>\n",
              "      <td>13</td>\n",
              "      <td>3</td>\n",
              "      <td>43</td>\n",
              "      <td>26</td>\n",
              "    </tr>\n",
              "  </tbody>\n",
              "</table>\n",
              "</div>"
            ],
            "text/plain": [
              "   ORDER_ID   DE_ID  ...  DELIVERED_TIME_minute  DELIVERED_TIME_second\n",
              "0      2745  180976  ...                     43                     26\n",
              "\n",
              "[1 rows x 50 columns]"
            ]
          },
          "metadata": {
            "tags": []
          },
          "execution_count": 379
        }
      ]
    },
    {
      "cell_type": "code",
      "metadata": {
        "id": "m7GchtzOVVz7"
      },
      "source": [
        "cp = ad_test.assign(key=0).merge(de.assign(key=0), how='left', on = 'key')"
      ],
      "execution_count": null,
      "outputs": []
    },
    {
      "cell_type": "code",
      "metadata": {
        "colab": {
          "base_uri": "https://localhost:8080/"
        },
        "id": "j7r9wEm0VVwA",
        "outputId": "a81ac84e-b0be-42ca-9cf2-0a6b7f18027d"
      },
      "source": [
        "cp.pop('key')"
      ],
      "execution_count": null,
      "outputs": [
        {
          "output_type": "execute_result",
          "data": {
            "text/plain": [
              "0      0\n",
              "1      0\n",
              "2      0\n",
              "3      0\n",
              "4      0\n",
              "      ..\n",
              "986    0\n",
              "987    0\n",
              "988    0\n",
              "989    0\n",
              "990    0\n",
              "Name: key, Length: 991, dtype: int64"
            ]
          },
          "metadata": {
            "tags": []
          },
          "execution_count": 381
        }
      ]
    },
    {
      "cell_type": "code",
      "metadata": {
        "id": "c4rCnFtSWBMc"
      },
      "source": [
        "cp"
      ],
      "execution_count": null,
      "outputs": []
    },
    {
      "cell_type": "code",
      "metadata": {
        "id": "nRXXQeTgf8Df"
      },
      "source": [
        "numeric_columns = cp.select_dtypes(include=['number']).columns\n",
        "numeric_columns = numeric_columns.tolist()"
      ],
      "execution_count": null,
      "outputs": []
    },
    {
      "cell_type": "code",
      "metadata": {
        "id": "3nRvhP6Uf8Dh"
      },
      "source": [
        "cat_columns = cp.select_dtypes(include=['object']).columns\n",
        "cat_columns = cat_columns.tolist()"
      ],
      "execution_count": null,
      "outputs": []
    },
    {
      "cell_type": "code",
      "metadata": {
        "id": "DL_0vER9fGBF"
      },
      "source": [
        "for column in cp[numeric_columns]:\n",
        "  if column in means:\n",
        "    cp[column] = cp[column].replace(np.nan, means[column])"
      ],
      "execution_count": null,
      "outputs": []
    },
    {
      "cell_type": "code",
      "metadata": {
        "id": "JrWsXSHyfGBH"
      },
      "source": [
        "for column in cp[cat_columns]:\n",
        "  if column in modes:\n",
        "    mode = modes[column]\n",
        "    print(mode)\n",
        "    cp[column] = cp[column].replace(np.nan, mode)"
      ],
      "execution_count": null,
      "outputs": []
    },
    {
      "cell_type": "code",
      "metadata": {
        "id": "wwrlM15TXW1y"
      },
      "source": [
        "date_cols = [\"DE_JOINING_DATE\"]\n",
        "time_cols = [\"SHIFT_END_TIME\"]\n",
        "# datetime_cols_nl = [\"ASSIGNMENT_END_TIME\", \"PLACED_TIME\", \"DELIVERED_TIME\"]\n",
        "datetime_cols = [\"ASSIGNMENT_START_TIME\", \"LAST_PING_TIME_LAST10MIN\", \"ASSIGNMENT_END_TIME\", \"PLACED_TIME\", \"DELIVERED_TIME\"]"
      ],
      "execution_count": null,
      "outputs": []
    },
    {
      "cell_type": "code",
      "metadata": {
        "id": "edAcD1jlXW1z"
      },
      "source": [
        "for i in date_cols:\n",
        "  cp[i] = pd.to_datetime(cp[i], format = '%Y-%m-%d', errors = 'coerce')"
      ],
      "execution_count": null,
      "outputs": []
    },
    {
      "cell_type": "code",
      "metadata": {
        "id": "J31l0cJ3XW10"
      },
      "source": [
        "for i in time_cols:\n",
        "  cp[i] = pd.to_datetime(cp[i], format = '%H:%M', errors = 'coerce')"
      ],
      "execution_count": null,
      "outputs": []
    },
    {
      "cell_type": "code",
      "metadata": {
        "id": "sfntDAtrXW10"
      },
      "source": [
        "for i in datetime_cols:\n",
        "  cp[i] = pd.to_datetime(cp[i], format = '%Y-%m-%d %H:%M:%S', errors = 'coerce')"
      ],
      "execution_count": null,
      "outputs": []
    },
    {
      "cell_type": "code",
      "metadata": {
        "id": "AX9m8jsgXW10"
      },
      "source": [
        "date_cols = [\"DE_JOINING_DATE\"]\n",
        "time_cols = [\"SHIFT_END_TIME\"]\n",
        "# datetime_cols_nl = [\"ASSIGNMENT_END_TIME\", \"PLACED_TIME\", \"DELIVERED_TIME\"]\n",
        "datetime_cols = [\"ASSIGNMENT_START_TIME\", \"LAST_PING_TIME_LAST10MIN\", \"ASSIGNMENT_END_TIME\", \"PLACED_TIME\", \"DELIVERED_TIME\"]"
      ],
      "execution_count": null,
      "outputs": []
    },
    {
      "cell_type": "code",
      "metadata": {
        "id": "pAyq4mo5XW11"
      },
      "source": [
        "for i in date_cols:\n",
        "  cp[i+'_year'] = cp[i].dt.year\n",
        "  cp[i+'_month'] = cp[i].dt.month\n",
        "  cp[i+'_day'] = cp[i].dt.day\n",
        "  cp.pop(i)"
      ],
      "execution_count": null,
      "outputs": []
    },
    {
      "cell_type": "code",
      "metadata": {
        "id": "yanadAGPXW11"
      },
      "source": [
        "for i in time_cols:\n",
        "  cp[i+'_hour'] = cp[i].dt.hour\n",
        "  cp[i+'_minute'] = cp[i].dt.minute\n",
        "  cp.pop(i)"
      ],
      "execution_count": null,
      "outputs": []
    },
    {
      "cell_type": "code",
      "metadata": {
        "id": "Cs8jN7vhXW12"
      },
      "source": [
        "for i in datetime_cols:\n",
        "  cp[i+'_year'] = cp[i].dt.year\n",
        "  cp[i+'_month'] = cp[i].dt.month\n",
        "  cp[i+'_day'] = cp[i].dt.day\n",
        "  cp[i+'_hour'] = cp[i].dt.hour\n",
        "  cp[i+'_minute'] = cp[i].dt.minute\n",
        "  cp[i+'_second'] = cp[i].dt.second\n",
        "  cp.pop(i)"
      ],
      "execution_count": null,
      "outputs": []
    },
    {
      "cell_type": "code",
      "metadata": {
        "id": "zkAXz9eOXW12"
      },
      "source": [
        "#Identify categorical and continuous variables\n",
        "ID_col = ['ORDER_ID']\n",
        "target_col = [\"reject_ind\", \"reject_type\"]"
      ],
      "execution_count": null,
      "outputs": []
    },
    {
      "cell_type": "code",
      "metadata": {
        "id": "vRSuv90gXW13"
      },
      "source": [
        "cat_cols = ['reject_type']\n",
        "\n",
        "for var in cat_cols:\n",
        "    cp[var] = number.transform(cp[var])"
      ],
      "execution_count": null,
      "outputs": []
    },
    {
      "cell_type": "markdown",
      "metadata": {
        "id": "xBO7RWl3gzAF"
      },
      "source": [
        "Fitting to same format"
      ]
    },
    {
      "cell_type": "code",
      "metadata": {
        "id": "1VB2fUEpWDgO"
      },
      "source": [
        "cols = list(df.columns.values)"
      ],
      "execution_count": null,
      "outputs": []
    },
    {
      "cell_type": "code",
      "metadata": {
        "id": "NK1aFru1Ypbx"
      },
      "source": [
        "cols"
      ],
      "execution_count": null,
      "outputs": []
    },
    {
      "cell_type": "code",
      "metadata": {
        "id": "ZmbnwToxWPvH"
      },
      "source": [
        "cp = cp[cols]"
      ],
      "execution_count": null,
      "outputs": []
    },
    {
      "cell_type": "code",
      "metadata": {
        "id": "xh_8UljHYEUh"
      },
      "source": [
        "target_col = [2, 3]\n",
        "X = cp.iloc[:, 1:].values"
      ],
      "execution_count": null,
      "outputs": []
    },
    {
      "cell_type": "code",
      "metadata": {
        "colab": {
          "base_uri": "https://localhost:8080/",
          "height": 101
        },
        "id": "ND43tEGeYcTa",
        "outputId": "3a76af06-8856-4a18-fd5f-37a47812e7c1"
      },
      "source": [
        "cp.head(1)"
      ],
      "execution_count": null,
      "outputs": [
        {
          "output_type": "execute_result",
          "data": {
            "text/html": [
              "<div>\n",
              "<style scoped>\n",
              "    .dataframe tbody tr th:only-of-type {\n",
              "        vertical-align: middle;\n",
              "    }\n",
              "\n",
              "    .dataframe tbody tr th {\n",
              "        vertical-align: top;\n",
              "    }\n",
              "\n",
              "    .dataframe thead th {\n",
              "        text-align: right;\n",
              "    }\n",
              "</style>\n",
              "<table border=\"1\" class=\"dataframe\">\n",
              "  <thead>\n",
              "    <tr style=\"text-align: right;\">\n",
              "      <th></th>\n",
              "      <th>ORDER_ID</th>\n",
              "      <th>DE_ID</th>\n",
              "      <th>reject_ind</th>\n",
              "      <th>reject_type</th>\n",
              "      <th>LASTMILE_DISTANCE</th>\n",
              "      <th>FIRSTMILE_DISTANCE</th>\n",
              "      <th>LAST_MILE_TIME_PREDICTED</th>\n",
              "      <th>PAYOUT_MADE_TO_DE</th>\n",
              "      <th>NUM_PING_COUNT_LAST10MIN</th>\n",
              "      <th>CUSTOMER_ZONE</th>\n",
              "      <th>CUSTOMER_LAT</th>\n",
              "      <th>CUSTOMER_LNG</th>\n",
              "      <th>DE_HOME_LAT</th>\n",
              "      <th>DE_HOME_LNG</th>\n",
              "      <th>DE_ZONE_ID</th>\n",
              "      <th>DE_JOINING_DATE_year</th>\n",
              "      <th>DE_JOINING_DATE_month</th>\n",
              "      <th>DE_JOINING_DATE_day</th>\n",
              "      <th>SHIFT_END_TIME_hour</th>\n",
              "      <th>SHIFT_END_TIME_minute</th>\n",
              "      <th>ASSIGNMENT_START_TIME_year</th>\n",
              "      <th>ASSIGNMENT_START_TIME_month</th>\n",
              "      <th>ASSIGNMENT_START_TIME_day</th>\n",
              "      <th>ASSIGNMENT_START_TIME_hour</th>\n",
              "      <th>ASSIGNMENT_START_TIME_minute</th>\n",
              "      <th>ASSIGNMENT_START_TIME_second</th>\n",
              "      <th>LAST_PING_TIME_LAST10MIN_year</th>\n",
              "      <th>LAST_PING_TIME_LAST10MIN_month</th>\n",
              "      <th>LAST_PING_TIME_LAST10MIN_day</th>\n",
              "      <th>LAST_PING_TIME_LAST10MIN_hour</th>\n",
              "      <th>LAST_PING_TIME_LAST10MIN_minute</th>\n",
              "      <th>LAST_PING_TIME_LAST10MIN_second</th>\n",
              "      <th>ASSIGNMENT_END_TIME_year</th>\n",
              "      <th>ASSIGNMENT_END_TIME_month</th>\n",
              "      <th>ASSIGNMENT_END_TIME_day</th>\n",
              "      <th>ASSIGNMENT_END_TIME_hour</th>\n",
              "      <th>ASSIGNMENT_END_TIME_minute</th>\n",
              "      <th>ASSIGNMENT_END_TIME_second</th>\n",
              "      <th>PLACED_TIME_year</th>\n",
              "      <th>PLACED_TIME_month</th>\n",
              "      <th>PLACED_TIME_day</th>\n",
              "      <th>PLACED_TIME_hour</th>\n",
              "      <th>PLACED_TIME_minute</th>\n",
              "      <th>PLACED_TIME_second</th>\n",
              "      <th>DELIVERED_TIME_year</th>\n",
              "      <th>DELIVERED_TIME_month</th>\n",
              "      <th>DELIVERED_TIME_day</th>\n",
              "      <th>DELIVERED_TIME_hour</th>\n",
              "      <th>DELIVERED_TIME_minute</th>\n",
              "      <th>DELIVERED_TIME_second</th>\n",
              "    </tr>\n",
              "  </thead>\n",
              "  <tbody>\n",
              "    <tr>\n",
              "      <th>0</th>\n",
              "      <td>2745</td>\n",
              "      <td>141533</td>\n",
              "      <td>0</td>\n",
              "      <td>0</td>\n",
              "      <td>320.9</td>\n",
              "      <td>320.0</td>\n",
              "      <td>314.0</td>\n",
              "      <td>1810.0</td>\n",
              "      <td>63</td>\n",
              "      <td>373.0</td>\n",
              "      <td>37.377569</td>\n",
              "      <td>72.83256</td>\n",
              "      <td>37.390427</td>\n",
              "      <td>72.849424</td>\n",
              "      <td>372</td>\n",
              "      <td>2019</td>\n",
              "      <td>9</td>\n",
              "      <td>20</td>\n",
              "      <td>6</td>\n",
              "      <td>42</td>\n",
              "      <td>2021</td>\n",
              "      <td>2</td>\n",
              "      <td>13</td>\n",
              "      <td>3</td>\n",
              "      <td>8</td>\n",
              "      <td>24</td>\n",
              "      <td>2021</td>\n",
              "      <td>2</td>\n",
              "      <td>13</td>\n",
              "      <td>3</td>\n",
              "      <td>7</td>\n",
              "      <td>34</td>\n",
              "      <td>2021</td>\n",
              "      <td>2</td>\n",
              "      <td>13</td>\n",
              "      <td>3</td>\n",
              "      <td>38</td>\n",
              "      <td>26</td>\n",
              "      <td>2021</td>\n",
              "      <td>2</td>\n",
              "      <td>13</td>\n",
              "      <td>3</td>\n",
              "      <td>1</td>\n",
              "      <td>11</td>\n",
              "      <td>2021</td>\n",
              "      <td>2</td>\n",
              "      <td>13</td>\n",
              "      <td>3</td>\n",
              "      <td>43</td>\n",
              "      <td>26</td>\n",
              "    </tr>\n",
              "  </tbody>\n",
              "</table>\n",
              "</div>"
            ],
            "text/plain": [
              "   ORDER_ID   DE_ID  ...  DELIVERED_TIME_minute  DELIVERED_TIME_second\n",
              "0      2745  141533  ...                     43                     26\n",
              "\n",
              "[1 rows x 50 columns]"
            ]
          },
          "metadata": {
            "tags": []
          },
          "execution_count": 422
        }
      ]
    },
    {
      "cell_type": "code",
      "metadata": {
        "colab": {
          "base_uri": "https://localhost:8080/"
        },
        "id": "xVHyYuljc0oj",
        "outputId": "ec286147-3593-40c2-e060-664e07ba68a9"
      },
      "source": [
        "model.predict(X)"
      ],
      "execution_count": null,
      "outputs": [
        {
          "output_type": "execute_result",
          "data": {
            "text/plain": [
              "array([[0, 0],\n",
              "       [0, 0],\n",
              "       [0, 0],\n",
              "       ...,\n",
              "       [0, 0],\n",
              "       [0, 0],\n",
              "       [0, 0]])"
            ]
          },
          "metadata": {
            "tags": []
          },
          "execution_count": 423
        }
      ]
    },
    {
      "cell_type": "code",
      "metadata": {
        "colab": {
          "base_uri": "https://localhost:8080/"
        },
        "id": "ucsyqBOnc_Pc",
        "outputId": "a4efa962-c5e6-4dca-d9be-5ef1315cda34"
      },
      "source": [
        "knn.predict(X)"
      ],
      "execution_count": null,
      "outputs": [
        {
          "output_type": "execute_result",
          "data": {
            "text/plain": [
              "array([[0., 0.],\n",
              "       [0., 0.],\n",
              "       [0., 0.],\n",
              "       ...,\n",
              "       [0., 0.],\n",
              "       [0., 0.],\n",
              "       [0., 0.]])"
            ]
          },
          "metadata": {
            "tags": []
          },
          "execution_count": 424
        }
      ]
    },
    {
      "cell_type": "code",
      "metadata": {
        "colab": {
          "base_uri": "https://localhost:8080/"
        },
        "id": "L61ENCeTdB9F",
        "outputId": "258c89cd-5c79-4166-b39e-b0185d53ebed"
      },
      "source": [
        "dt.predict(X)"
      ],
      "execution_count": null,
      "outputs": [
        {
          "output_type": "execute_result",
          "data": {
            "text/plain": [
              "array([[0., 0.],\n",
              "       [0., 0.],\n",
              "       [0., 0.],\n",
              "       ...,\n",
              "       [0., 0.],\n",
              "       [0., 0.],\n",
              "       [0., 0.]])"
            ]
          },
          "metadata": {
            "tags": []
          },
          "execution_count": 425
        }
      ]
    }
  ]
}