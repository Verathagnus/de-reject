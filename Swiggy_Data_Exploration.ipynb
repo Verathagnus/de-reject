{
  "nbformat": 4,
  "nbformat_minor": 0,
  "metadata": {
    "colab": {
      "name": "Swiggy-Data Exploration.ipynb",
      "provenance": [],
      "collapsed_sections": [
        "4AgGn-kxYJqV"
      ]
    },
    "kernelspec": {
      "display_name": "Python 3",
      "name": "python3"
    },
    "language_info": {
      "name": "python"
    }
  },
  "cells": [
    {
      "cell_type": "code",
      "metadata": {
        "colab": {
          "base_uri": "https://localhost:8080/"
        },
        "id": "UoTIxL0mElFz",
        "outputId": "7ddc7f2d-f838-4e86-dcdf-7a14cdc32905"
      },
      "source": [
        "from google.colab import drive\n",
        "drive.mount('/content/drive')"
      ],
      "execution_count": null,
      "outputs": [
        {
          "output_type": "stream",
          "text": [
            "Mounted at /content/drive\n"
          ],
          "name": "stdout"
        }
      ]
    },
    {
      "cell_type": "code",
      "metadata": {
        "colab": {
          "base_uri": "https://localhost:8080/"
        },
        "id": "akk4nwrHE9x5",
        "outputId": "f32e0776-b647-4134-d87a-e9cc1ad089d1"
      },
      "source": [
        "mkdir /content/drive/MyDrive/de-reject"
      ],
      "execution_count": null,
      "outputs": [
        {
          "output_type": "stream",
          "text": [
            "mkdir: cannot create directory ‘/content/drive/MyDrive/de-reject’: File exists\n"
          ],
          "name": "stdout"
        }
      ]
    },
    {
      "cell_type": "code",
      "metadata": {
        "colab": {
          "base_uri": "https://localhost:8080/"
        },
        "id": "74NXhrHVwP2P",
        "outputId": "fd8ad8cc-cfb9-4fbd-86f1-f65422a66473"
      },
      "source": [
        "cd /content/drive/MyDrive/de-reject/Data"
      ],
      "execution_count": null,
      "outputs": [
        {
          "output_type": "stream",
          "text": [
            "/content/drive/MyDrive/de-reject/Data\n"
          ],
          "name": "stdout"
        }
      ]
    },
    {
      "cell_type": "code",
      "metadata": {
        "colab": {
          "base_uri": "https://localhost:8080/"
        },
        "id": "yygrA4-hvJ_J",
        "outputId": "9a514bd1-2cdb-49cd-bdc4-87d6846d35b9"
      },
      "source": [
        "!unzip *.zip"
      ],
      "execution_count": null,
      "outputs": [
        {
          "output_type": "stream",
          "text": [
            "Archive:  Data.zip\n",
            "   creating: Data/\n",
            "  inflating: Data/Assignment_Data.csv  \n",
            "  inflating: Data/Delivery_Partners_Data.csv  \n"
          ],
          "name": "stdout"
        }
      ]
    },
    {
      "cell_type": "code",
      "metadata": {
        "id": "ZaZUqGKyvMO9"
      },
      "source": [
        "ls"
      ],
      "execution_count": null,
      "outputs": []
    },
    {
      "cell_type": "markdown",
      "metadata": {
        "id": "wubWJAbCUO7E"
      },
      "source": [
        "First, we load the required libraries"
      ]
    },
    {
      "cell_type": "code",
      "metadata": {
        "id": "Y_I7NMCjwc6h"
      },
      "source": [
        "import pandas as pd\n",
        "import numpy as np\n",
        "from sklearn import preprocessing\n",
        "from sklearn.preprocessing import LabelEncoder, OneHotEncoder\n",
        "import matplotlib.pyplot as plt\n",
        "%matplotlib inline\n",
        "import seaborn as sns\n",
        "sns.set(color_codes=True)\n",
        "import operator"
      ],
      "execution_count": null,
      "outputs": []
    },
    {
      "cell_type": "code",
      "metadata": {
        "id": "1RHo9SP2Tdaq"
      },
      "source": [
        ""
      ],
      "execution_count": null,
      "outputs": []
    },
    {
      "cell_type": "markdown",
      "metadata": {
        "id": "pwQ7a_56UUcI"
      },
      "source": [
        "Then, we extract the 2 files present in the provided zip file"
      ]
    },
    {
      "cell_type": "code",
      "metadata": {
        "colab": {
          "base_uri": "https://localhost:8080/"
        },
        "id": "GkSkWXbHFkWQ",
        "outputId": "2aa65a69-8499-485c-f470-3df9cccb5b2f"
      },
      "source": [
        "!unzip *.zip"
      ],
      "execution_count": null,
      "outputs": [
        {
          "output_type": "stream",
          "text": [
            "Archive:  85561676e53d11eb_2.zip\n",
            "   creating: dataset/\n",
            "  inflating: dataset/sample_submission.csv  \n",
            "  inflating: dataset/train.csv       \n",
            "  inflating: dataset/test.csv        \n"
          ],
          "name": "stdout"
        }
      ]
    },
    {
      "cell_type": "code",
      "metadata": {
        "colab": {
          "base_uri": "https://localhost:8080/"
        },
        "id": "NjPH6P1IG_Pg",
        "outputId": "3ae092b7-53b5-4389-86d2-c09a160ca589"
      },
      "source": [
        "ls"
      ],
      "execution_count": null,
      "outputs": [
        {
          "output_type": "stream",
          "text": [
            "Assignment_Data.csv  Delivery_Partners_Data.csv\n"
          ],
          "name": "stdout"
        }
      ]
    },
    {
      "cell_type": "markdown",
      "metadata": {
        "id": "6DzkoX0vUfoy"
      },
      "source": [
        "We open the 2 datasets with pandas"
      ]
    },
    {
      "cell_type": "code",
      "metadata": {
        "id": "xUPZx8DDwc9t"
      },
      "source": [
        "ad = pd.read_csv(\"Assignment_Data.csv\")\n",
        "de = pd.read_csv(\"Delivery_Partners_Data.csv\")"
      ],
      "execution_count": null,
      "outputs": []
    },
    {
      "cell_type": "code",
      "metadata": {
        "colab": {
          "base_uri": "https://localhost:8080/"
        },
        "id": "dpw8_9ROUo0O",
        "outputId": "36afc0d2-95d0-4283-ed39-bf432ac45e1d"
      },
      "source": [
        "ad.shape"
      ],
      "execution_count": null,
      "outputs": [
        {
          "output_type": "execute_result",
          "data": {
            "text/plain": [
              "(132394, 17)"
            ]
          },
          "metadata": {
            "tags": []
          },
          "execution_count": 21
        }
      ]
    },
    {
      "cell_type": "code",
      "metadata": {
        "colab": {
          "base_uri": "https://localhost:8080/"
        },
        "id": "eGwONBivUqJP",
        "outputId": "57135235-6c4e-482d-9c14-619a01ff050a"
      },
      "source": [
        "de.shape"
      ],
      "execution_count": null,
      "outputs": [
        {
          "output_type": "execute_result",
          "data": {
            "text/plain": [
              "(991, 6)"
            ]
          },
          "metadata": {
            "tags": []
          },
          "execution_count": 22
        }
      ]
    },
    {
      "cell_type": "markdown",
      "metadata": {
        "id": "Wu235rkAUk3X"
      },
      "source": [
        "The size of the datasets have been shown above. For adding more context of delivery agent details for assignment, we merge the delivery guy details to the assignment dataset on the DE_ID column to make a merged dataset."
      ]
    },
    {
      "cell_type": "code",
      "metadata": {
        "id": "aON9gjbZHbZ0"
      },
      "source": [
        "df = pd.merge(ad, de, on=\"DE_ID\")"
      ],
      "execution_count": null,
      "outputs": []
    },
    {
      "cell_type": "markdown",
      "metadata": {
        "id": "1KEVCiwuWf4z"
      },
      "source": [
        "The numerical and categorical columns are selected"
      ]
    },
    {
      "cell_type": "code",
      "metadata": {
        "id": "z9GWXG7EIfIB"
      },
      "source": [
        "numeric_columns = df.select_dtypes(include=['number']).columns\n",
        "numeric_columns = numeric_columns.tolist()"
      ],
      "execution_count": null,
      "outputs": []
    },
    {
      "cell_type": "code",
      "metadata": {
        "id": "jjCmr2xYIy6c"
      },
      "source": [
        "cat_columns = df.select_dtypes(include=['object']).columns\n",
        "cat_columns = cat_columns.tolist()"
      ],
      "execution_count": null,
      "outputs": []
    },
    {
      "cell_type": "code",
      "metadata": {
        "colab": {
          "base_uri": "https://localhost:8080/"
        },
        "id": "PHdLIe7TQbAD",
        "outputId": "7424e4d8-16a1-4081-9142-fa78e36982c8"
      },
      "source": [
        "cat_columns"
      ],
      "execution_count": null,
      "outputs": [
        {
          "output_type": "execute_result",
          "data": {
            "text/plain": [
              "['ASSIGNMENT_START_TIME',\n",
              " 'ASSIGNMENT_END_TIME',\n",
              " 'reject_type',\n",
              " 'PLACED_TIME',\n",
              " 'DELIVERED_TIME',\n",
              " 'LAST_PING_TIME_LAST10MIN',\n",
              " 'SHIFT_END_TIME',\n",
              " 'DE_JOINING_DATE']"
            ]
          },
          "metadata": {
            "tags": []
          },
          "execution_count": 8
        }
      ]
    },
    {
      "cell_type": "code",
      "metadata": {
        "colab": {
          "base_uri": "https://localhost:8080/"
        },
        "id": "t1aurpJaQX87",
        "outputId": "6a3da3f9-8407-4192-aeed-3488577f7d5b"
      },
      "source": [
        "numeric_columns"
      ],
      "execution_count": null,
      "outputs": [
        {
          "output_type": "execute_result",
          "data": {
            "text/plain": [
              "['ORDER_ID',\n",
              " 'DE_ID',\n",
              " 'reject_ind',\n",
              " 'LASTMILE_DISTANCE',\n",
              " 'FIRSTMILE_DISTANCE',\n",
              " 'LAST_MILE_TIME_PREDICTED',\n",
              " 'PAYOUT_MADE_TO_DE',\n",
              " 'NUM_PING_COUNT_LAST10MIN',\n",
              " 'CUSTOMER_ZONE',\n",
              " 'CUSTOMER_LAT',\n",
              " 'CUSTOMER_LNG',\n",
              " 'DE_HOME_LAT',\n",
              " 'DE_HOME_LNG',\n",
              " 'DE_ZONE_ID']"
            ]
          },
          "metadata": {
            "tags": []
          },
          "execution_count": 9
        }
      ]
    },
    {
      "cell_type": "code",
      "metadata": {
        "colab": {
          "base_uri": "https://localhost:8080/"
        },
        "id": "RaWu9OUgTtBj",
        "outputId": "8675de1e-53bc-47a4-8469-2e5f3ac2d338"
      },
      "source": [
        "df.info"
      ],
      "execution_count": null,
      "outputs": [
        {
          "output_type": "execute_result",
          "data": {
            "text/plain": [
              "<bound method DataFrame.info of         ORDER_ID   DE_ID  ... DE_JOINING_DATE DE_ZONE_ID\n",
              "0           2745  180976  ...      2019-10-25        373\n",
              "1          14974  180976  ...      2019-10-25        373\n",
              "2         115325  180976  ...      2019-10-25        373\n",
              "3           1648  180976  ...      2019-10-25        373\n",
              "4          72496  180976  ...      2019-10-25        373\n",
              "...          ...     ...  ...             ...        ...\n",
              "132389     89823  397846  ...      2020-09-18        372\n",
              "132390     88708  397846  ...      2020-09-18        372\n",
              "132391     89895  397846  ...      2020-09-18        372\n",
              "132392     59310  339707  ...      2020-07-25        374\n",
              "132393     59310  339707  ...      2020-07-25        374\n",
              "\n",
              "[132394 rows x 22 columns]>"
            ]
          },
          "metadata": {
            "tags": []
          },
          "execution_count": 11
        }
      ]
    },
    {
      "cell_type": "code",
      "metadata": {
        "colab": {
          "base_uri": "https://localhost:8080/"
        },
        "id": "oyRWe0y9TuHT",
        "outputId": "1bc2e2de-0430-40fe-bd36-90fea7b1dbd1"
      },
      "source": [
        "df.shape"
      ],
      "execution_count": null,
      "outputs": [
        {
          "output_type": "execute_result",
          "data": {
            "text/plain": [
              "(132394, 22)"
            ]
          },
          "metadata": {
            "tags": []
          },
          "execution_count": 12
        }
      ]
    },
    {
      "cell_type": "markdown",
      "metadata": {
        "id": "S684TDYkW5tN"
      },
      "source": [
        "The means for the numerical columns are found"
      ]
    },
    {
      "cell_type": "code",
      "metadata": {
        "colab": {
          "base_uri": "https://localhost:8080/"
        },
        "id": "RUVZvx6bcMiT",
        "outputId": "e7f272c8-3e9e-41f1-bde7-1676c0548028"
      },
      "source": [
        "for column in df[numeric_columns]:\n",
        "    mean = df[column].mean()\n",
        "    print(column, '=>', mean)"
      ],
      "execution_count": null,
      "outputs": [
        {
          "output_type": "stream",
          "text": [
            "ORDER_ID => 62266.26130338233\n",
            "DE_ID => 615638.894088856\n",
            "reject_ind => 0.060788253244104716\n",
            "LASTMILE_DISTANCE => 432.8641769398092\n",
            "FIRSTMILE_DISTANCE => 364.8571212510735\n",
            "LAST_MILE_TIME_PREDICTED => 403.57953834766465\n",
            "PAYOUT_MADE_TO_DE => 2764.807124351353\n",
            "NUM_PING_COUNT_LAST10MIN => 24.165407797936464\n",
            "CUSTOMER_ZONE => 489.92653685014886\n",
            "CUSTOMER_LAT => 37.38910395510759\n",
            "CUSTOMER_LNG => 72.8590439996829\n",
            "DE_HOME_LAT => 37.37598328629076\n",
            "DE_HOME_LNG => 72.88206871033466\n",
            "DE_ZONE_ID => 484.0220402737284\n"
          ],
          "name": "stdout"
        }
      ]
    },
    {
      "cell_type": "markdown",
      "metadata": {
        "id": "I5HPwyeRW9xi"
      },
      "source": [
        "The modes for the categorical columns are found"
      ]
    },
    {
      "cell_type": "code",
      "metadata": {
        "colab": {
          "base_uri": "https://localhost:8080/"
        },
        "id": "7WIvUy5HcJvo",
        "outputId": "1a370f0b-c671-4bcf-855a-4bd6dbffcf89"
      },
      "source": [
        "for column in df[cat_columns]:\n",
        "    mode = df[column].mode()[0]\n",
        "    print(column, '=>', mode)"
      ],
      "execution_count": null,
      "outputs": [
        {
          "output_type": "stream",
          "text": [
            "ASSIGNMENT_START_TIME => 2021-03-05 03:43:22.000\n",
            "ASSIGNMENT_END_TIME => 2021-03-03 03:06:20.000\n",
            "reject_type => Type-1\n",
            "PLACED_TIME => 2021-02-14 05:32:59.753\n",
            "DELIVERED_TIME => 2021-02-14 07:35:48.000\n",
            "LAST_PING_TIME_LAST10MIN => 2021-02-26 03:12:32.000\n",
            "SHIFT_END_TIME => 05:42\n",
            "DE_JOINING_DATE => 2020-08-09\n"
          ],
          "name": "stdout"
        }
      ]
    },
    {
      "cell_type": "markdown",
      "metadata": {
        "id": "tt6wxoYMXCrF"
      },
      "source": [
        "The na rows are checked"
      ]
    },
    {
      "cell_type": "code",
      "metadata": {
        "colab": {
          "base_uri": "https://localhost:8080/"
        },
        "id": "MivpUPMIYyxe",
        "outputId": "3136948d-2f84-463b-dccc-de6b7fecccf8"
      },
      "source": [
        "df.isna().any()"
      ],
      "execution_count": null,
      "outputs": [
        {
          "output_type": "execute_result",
          "data": {
            "text/plain": [
              "ORDER_ID                    False\n",
              "DE_ID                       False\n",
              "ASSIGNMENT_START_TIME       False\n",
              "ASSIGNMENT_END_TIME         False\n",
              "reject_ind                  False\n",
              "reject_type                  True\n",
              "PLACED_TIME                 False\n",
              "DELIVERED_TIME               True\n",
              "LASTMILE_DISTANCE            True\n",
              "FIRSTMILE_DISTANCE           True\n",
              "LAST_MILE_TIME_PREDICTED    False\n",
              "PAYOUT_MADE_TO_DE            True\n",
              "NUM_PING_COUNT_LAST10MIN    False\n",
              "LAST_PING_TIME_LAST10MIN    False\n",
              "CUSTOMER_ZONE                True\n",
              "CUSTOMER_LAT                False\n",
              "CUSTOMER_LNG                False\n",
              "SHIFT_END_TIME              False\n",
              "DE_HOME_LAT                 False\n",
              "DE_HOME_LNG                 False\n",
              "DE_JOINING_DATE             False\n",
              "DE_ZONE_ID                  False\n",
              "dtype: bool"
            ]
          },
          "metadata": {
            "tags": []
          },
          "execution_count": 19
        }
      ]
    },
    {
      "cell_type": "code",
      "metadata": {
        "colab": {
          "base_uri": "https://localhost:8080/"
        },
        "id": "B9EBBZC1WwRW",
        "outputId": "8a1fcdb6-b9c7-414e-f23c-247ea6ba9f26"
      },
      "source": [
        "sum(df.isna().any())"
      ],
      "execution_count": null,
      "outputs": [
        {
          "output_type": "execute_result",
          "data": {
            "text/plain": [
              "6"
            ]
          },
          "metadata": {
            "tags": []
          },
          "execution_count": 20
        }
      ]
    },
    {
      "cell_type": "code",
      "metadata": {
        "id": "l0fOHdR0bxEV"
      },
      "source": [
        "df.dtypes"
      ],
      "execution_count": null,
      "outputs": []
    },
    {
      "cell_type": "code",
      "metadata": {
        "id": "Gx8yUiodVFBF"
      },
      "source": [
        "df.head()"
      ],
      "execution_count": null,
      "outputs": []
    },
    {
      "cell_type": "markdown",
      "metadata": {
        "id": "rXqpNGxaXKRR"
      },
      "source": [
        "The date, time and datetime columns are selected and datetime features are extracted according to their formats."
      ]
    },
    {
      "cell_type": "code",
      "metadata": {
        "id": "mtwATEQwcUqX"
      },
      "source": [
        "date_cols = [\"DE_JOINING_DATE\"]\n",
        "time_cols = [\"SHIFT_END_TIME\"]\n",
        "# datetime_cols_nl = [\"ASSIGNMENT_END_TIME\", \"PLACED_TIME\", \"DELIVERED_TIME\"]\n",
        "datetime_cols = [\"ASSIGNMENT_START_TIME\", \"LAST_PING_TIME_LAST10MIN\", \"ASSIGNMENT_END_TIME\", \"PLACED_TIME\", \"DELIVERED_TIME\"]"
      ],
      "execution_count": null,
      "outputs": []
    },
    {
      "cell_type": "code",
      "metadata": {
        "id": "hYKbnjLwdXhs"
      },
      "source": [
        "for i in date_cols:\n",
        "  df[i] = pd.to_datetime(df[i], format = '%Y-%m-%d', errors = 'coerce')"
      ],
      "execution_count": null,
      "outputs": []
    },
    {
      "cell_type": "code",
      "metadata": {
        "id": "lSs5KmqhdvSV"
      },
      "source": [
        "for i in time_cols:\n",
        "  df[i] = pd.to_datetime(df[i], format = '%H:%M', errors = 'coerce')"
      ],
      "execution_count": null,
      "outputs": []
    },
    {
      "cell_type": "code",
      "metadata": {
        "id": "YlDjufx6d8Yz"
      },
      "source": [
        "for i in datetime_cols:\n",
        "  df[i] = pd.to_datetime(df[i], format = '%Y-%m-%d %H:%M:%S', errors = 'coerce')"
      ],
      "execution_count": null,
      "outputs": []
    },
    {
      "cell_type": "code",
      "metadata": {
        "id": "SaGgpmQNmIwc"
      },
      "source": [
        "df"
      ],
      "execution_count": null,
      "outputs": []
    },
    {
      "cell_type": "markdown",
      "metadata": {
        "id": "4AgGn-kxYJqV"
      },
      "source": [
        "# DT column add"
      ]
    },
    {
      "cell_type": "markdown",
      "metadata": {
        "id": "NK5b8MNmXiTL"
      },
      "source": [
        "New columns are then formed from the datetime values of the columns"
      ]
    },
    {
      "cell_type": "code",
      "metadata": {
        "id": "o0Ns-awomJFe"
      },
      "source": [
        "date_cols = [\"DE_JOINING_DATE\"]\n",
        "time_cols = [\"SHIFT_END_TIME\"]\n",
        "# datetime_cols_nl = [\"ASSIGNMENT_END_TIME\", \"PLACED_TIME\", \"DELIVERED_TIME\"]\n",
        "datetime_cols = [\"ASSIGNMENT_START_TIME\", \"LAST_PING_TIME_LAST10MIN\", \"ASSIGNMENT_END_TIME\", \"PLACED_TIME\", \"DELIVERED_TIME\"]"
      ],
      "execution_count": null,
      "outputs": []
    },
    {
      "cell_type": "code",
      "metadata": {
        "id": "uDwLmUEHmJFg"
      },
      "source": [
        "for i in date_cols:\n",
        "  df[i+'_year'] = df[i].dt.year\n",
        "  df[i+'_month'] = df[i].dt.month\n",
        "  df[i+'_day'] = df[i].dt.day\n",
        "  df.pop(i)"
      ],
      "execution_count": null,
      "outputs": []
    },
    {
      "cell_type": "code",
      "metadata": {
        "id": "4xVVA5h0mJFh"
      },
      "source": [
        "for i in time_cols:\n",
        "  df[i+'_hour'] = df[i].dt.hour\n",
        "  df[i+'_minute'] = df[i].dt.minute\n",
        "  df.pop(i)"
      ],
      "execution_count": null,
      "outputs": []
    },
    {
      "cell_type": "code",
      "metadata": {
        "id": "1u0gTYlhmJFi"
      },
      "source": [
        "for i in datetime_cols:\n",
        "  df[i+'_year'] = df[i].dt.year\n",
        "  df[i+'_month'] = df[i].dt.month\n",
        "  df[i+'_day'] = df[i].dt.day\n",
        "  df[i+'_hour'] = df[i].dt.hour\n",
        "  df[i+'_minute'] = df[i].dt.minute\n",
        "  df[i+'_second'] = df[i].dt.second\n",
        "  df.pop(i)"
      ],
      "execution_count": null,
      "outputs": []
    },
    {
      "cell_type": "code",
      "metadata": {
        "id": "O5P-6CGz8s3Q"
      },
      "source": [
        "#Identify categorical and continuous variables\n",
        "ID_col = ['ORDER_ID']\n",
        "target_col = [\"reject_ind\", \"reject_type\"]"
      ],
      "execution_count": null,
      "outputs": []
    },
    {
      "cell_type": "code",
      "metadata": {
        "id": "qFiWOrhuYD5e"
      },
      "source": [
        ""
      ],
      "execution_count": null,
      "outputs": []
    },
    {
      "cell_type": "code",
      "metadata": {
        "id": "PCsoyhgEYOe_"
      },
      "source": [
        ""
      ],
      "execution_count": null,
      "outputs": []
    },
    {
      "cell_type": "markdown",
      "metadata": {
        "id": "rmTgw_zeYQlr"
      },
      "source": [
        "# New Section"
      ]
    },
    {
      "cell_type": "code",
      "metadata": {
        "id": "NjukyyCRaR7l"
      },
      "source": [
        "!pip install geopandas\n",
        "!pip install geoplot"
      ],
      "execution_count": null,
      "outputs": []
    },
    {
      "cell_type": "code",
      "metadata": {
        "id": "1cVqcOmi8x-R"
      },
      "source": [
        "!pip install imgaug==0.2.6"
      ],
      "execution_count": null,
      "outputs": []
    },
    {
      "cell_type": "code",
      "metadata": {
        "colab": {
          "base_uri": "https://localhost:8080/"
        },
        "id": "zOQayHFK8lCN",
        "outputId": "32e03590-0e90-4936-ee0e-8579dcb39a66"
      },
      "source": [
        "!pip uninstall shapely\n",
        "!pip install shapely --no-binary shapely"
      ],
      "execution_count": null,
      "outputs": [
        {
          "output_type": "stream",
          "text": [
            "Found existing installation: Shapely 1.7.1\n",
            "Uninstalling Shapely-1.7.1:\n",
            "  Would remove:\n",
            "    /usr/local/lib/python3.7/dist-packages/Shapely-1.7.1.dist-info/*\n",
            "    /usr/local/lib/python3.7/dist-packages/shapely/*\n",
            "Proceed (y/n)? y\n",
            "  Successfully uninstalled Shapely-1.7.1\n",
            "Collecting shapely\n",
            "  Downloading Shapely-1.7.1.tar.gz (383 kB)\n",
            "\u001b[K     |████████████████████████████████| 383 kB 28.0 MB/s \n",
            "\u001b[?25hSkipping wheel build for shapely, due to binaries being disabled for it.\n",
            "Installing collected packages: shapely\n",
            "    Running setup.py install for shapely ... \u001b[?25l\u001b[?25hdone\n",
            "Successfully installed shapely-1.7.1\n"
          ],
          "name": "stdout"
        }
      ]
    },
    {
      "cell_type": "code",
      "metadata": {
        "id": "o90mEHhwZDYo"
      },
      "source": [
        "import descartes\n",
        "import geopandas as gpd\n",
        "from shapely.geometry import Point, Polygon\n",
        "import geoplot as gplt\n",
        "import geoplot.crs as gcrs\n",
        "import pandas as pd\n",
        "import numpy as np\n",
        "from sklearn import preprocessing\n",
        "from sklearn.preprocessing import LabelEncoder, OneHotEncoder\n",
        "import matplotlib.pyplot as plt\n",
        "%matplotlib inline\n",
        "import seaborn as sns\n",
        "sns.set(color_codes=True)\n",
        "import operator"
      ],
      "execution_count": null,
      "outputs": []
    },
    {
      "cell_type": "code",
      "metadata": {
        "id": "POpcQ2loYP7U"
      },
      "source": [
        ""
      ],
      "execution_count": null,
      "outputs": []
    },
    {
      "cell_type": "code",
      "metadata": {
        "id": "-_cO4MpZaod4"
      },
      "source": [
        "test.to_csv(\"test.csv\", index=False)"
      ],
      "execution_count": null,
      "outputs": []
    },
    {
      "cell_type": "code",
      "metadata": {
        "colab": {
          "base_uri": "https://localhost:8080/"
        },
        "id": "muj-trSqouO8",
        "outputId": "5bb63886-e4ec-4217-be08-4ca134d44a95"
      },
      "source": [
        "cd /content/drive/MyDrive/de-reject/Data"
      ],
      "execution_count": null,
      "outputs": [
        {
          "output_type": "stream",
          "text": [
            "/content/drive/MyDrive/de-reject/Data\n"
          ],
          "name": "stdout"
        }
      ]
    },
    {
      "cell_type": "code",
      "metadata": {
        "id": "FoRxRbKrmMp9"
      },
      "source": [
        "test = pd.read_csv(\"test.csv\")"
      ],
      "execution_count": null,
      "outputs": []
    },
    {
      "cell_type": "code",
      "metadata": {
        "id": "dm2acFcAnMvI"
      },
      "source": [
        "test = test[[\"ORDER_ID\", \"DE_ID\", \"reject_ind\", \"reject_type\", \"CUSTOMER_LAT\", \"CUSTOMER_LNG\", \"DE_HOME_LAT\", \"DE_HOME_LNG\"]]"
      ],
      "execution_count": null,
      "outputs": []
    },
    {
      "cell_type": "code",
      "metadata": {
        "colab": {
          "base_uri": "https://localhost:8080/",
          "height": 791
        },
        "id": "AcxeGxaymQVS",
        "outputId": "52e3911c-43d9-45e8-b99f-885fef6450b7"
      },
      "source": [
        "test"
      ],
      "execution_count": null,
      "outputs": [
        {
          "output_type": "execute_result",
          "data": {
            "text/html": [
              "<div>\n",
              "<style scoped>\n",
              "    .dataframe tbody tr th:only-of-type {\n",
              "        vertical-align: middle;\n",
              "    }\n",
              "\n",
              "    .dataframe tbody tr th {\n",
              "        vertical-align: top;\n",
              "    }\n",
              "\n",
              "    .dataframe thead th {\n",
              "        text-align: right;\n",
              "    }\n",
              "</style>\n",
              "<table border=\"1\" class=\"dataframe\">\n",
              "  <thead>\n",
              "    <tr style=\"text-align: right;\">\n",
              "      <th></th>\n",
              "      <th>ORDER_ID</th>\n",
              "      <th>DE_ID</th>\n",
              "      <th>reject_ind</th>\n",
              "      <th>reject_type</th>\n",
              "      <th>CUSTOMER_LAT</th>\n",
              "      <th>CUSTOMER_LNG</th>\n",
              "      <th>DE_HOME_LAT</th>\n",
              "      <th>DE_HOME_LNG</th>\n",
              "      <th>geometry</th>\n",
              "    </tr>\n",
              "  </thead>\n",
              "  <tbody>\n",
              "    <tr>\n",
              "      <th>0</th>\n",
              "      <td>2745</td>\n",
              "      <td>180976</td>\n",
              "      <td>0</td>\n",
              "      <td>NaN</td>\n",
              "      <td>37.377569</td>\n",
              "      <td>72.832560</td>\n",
              "      <td>37.374634</td>\n",
              "      <td>72.871986</td>\n",
              "      <td>POINT (37.37757 72.83256)</td>\n",
              "    </tr>\n",
              "    <tr>\n",
              "      <th>1</th>\n",
              "      <td>14974</td>\n",
              "      <td>180976</td>\n",
              "      <td>0</td>\n",
              "      <td>NaN</td>\n",
              "      <td>37.368782</td>\n",
              "      <td>72.809458</td>\n",
              "      <td>37.374634</td>\n",
              "      <td>72.871986</td>\n",
              "      <td>POINT (37.36878 72.80946)</td>\n",
              "    </tr>\n",
              "    <tr>\n",
              "      <th>2</th>\n",
              "      <td>115325</td>\n",
              "      <td>180976</td>\n",
              "      <td>0</td>\n",
              "      <td>NaN</td>\n",
              "      <td>37.374205</td>\n",
              "      <td>72.827956</td>\n",
              "      <td>37.374634</td>\n",
              "      <td>72.871986</td>\n",
              "      <td>POINT (37.37420 72.82796)</td>\n",
              "    </tr>\n",
              "    <tr>\n",
              "      <th>3</th>\n",
              "      <td>1648</td>\n",
              "      <td>180976</td>\n",
              "      <td>0</td>\n",
              "      <td>NaN</td>\n",
              "      <td>37.369154</td>\n",
              "      <td>72.815318</td>\n",
              "      <td>37.374634</td>\n",
              "      <td>72.871986</td>\n",
              "      <td>POINT (37.36915 72.81532)</td>\n",
              "    </tr>\n",
              "    <tr>\n",
              "      <th>4</th>\n",
              "      <td>72496</td>\n",
              "      <td>180976</td>\n",
              "      <td>0</td>\n",
              "      <td>NaN</td>\n",
              "      <td>37.376896</td>\n",
              "      <td>72.834044</td>\n",
              "      <td>37.374634</td>\n",
              "      <td>72.871986</td>\n",
              "      <td>POINT (37.37690 72.83404)</td>\n",
              "    </tr>\n",
              "    <tr>\n",
              "      <th>...</th>\n",
              "      <td>...</td>\n",
              "      <td>...</td>\n",
              "      <td>...</td>\n",
              "      <td>...</td>\n",
              "      <td>...</td>\n",
              "      <td>...</td>\n",
              "      <td>...</td>\n",
              "      <td>...</td>\n",
              "      <td>...</td>\n",
              "    </tr>\n",
              "    <tr>\n",
              "      <th>95</th>\n",
              "      <td>76783</td>\n",
              "      <td>180976</td>\n",
              "      <td>0</td>\n",
              "      <td>NaN</td>\n",
              "      <td>37.414427</td>\n",
              "      <td>72.836212</td>\n",
              "      <td>37.374634</td>\n",
              "      <td>72.871986</td>\n",
              "      <td>POINT (37.41443 72.83621)</td>\n",
              "    </tr>\n",
              "    <tr>\n",
              "      <th>96</th>\n",
              "      <td>83098</td>\n",
              "      <td>180976</td>\n",
              "      <td>0</td>\n",
              "      <td>NaN</td>\n",
              "      <td>37.396872</td>\n",
              "      <td>72.821195</td>\n",
              "      <td>37.374634</td>\n",
              "      <td>72.871986</td>\n",
              "      <td>POINT (37.39687 72.82119)</td>\n",
              "    </tr>\n",
              "    <tr>\n",
              "      <th>97</th>\n",
              "      <td>68794</td>\n",
              "      <td>180976</td>\n",
              "      <td>0</td>\n",
              "      <td>NaN</td>\n",
              "      <td>37.394621</td>\n",
              "      <td>72.851235</td>\n",
              "      <td>37.374634</td>\n",
              "      <td>72.871986</td>\n",
              "      <td>POINT (37.39462 72.85123)</td>\n",
              "    </tr>\n",
              "    <tr>\n",
              "      <th>98</th>\n",
              "      <td>120864</td>\n",
              "      <td>180976</td>\n",
              "      <td>0</td>\n",
              "      <td>NaN</td>\n",
              "      <td>37.405894</td>\n",
              "      <td>72.823236</td>\n",
              "      <td>37.374634</td>\n",
              "      <td>72.871986</td>\n",
              "      <td>POINT (37.40589 72.82324)</td>\n",
              "    </tr>\n",
              "    <tr>\n",
              "      <th>99</th>\n",
              "      <td>68778</td>\n",
              "      <td>180976</td>\n",
              "      <td>0</td>\n",
              "      <td>NaN</td>\n",
              "      <td>37.402566</td>\n",
              "      <td>72.853461</td>\n",
              "      <td>37.374634</td>\n",
              "      <td>72.871986</td>\n",
              "      <td>POINT (37.40257 72.85346)</td>\n",
              "    </tr>\n",
              "  </tbody>\n",
              "</table>\n",
              "<p>100 rows × 9 columns</p>\n",
              "</div>"
            ],
            "text/plain": [
              "    ORDER_ID   DE_ID  ...  DE_HOME_LNG                   geometry\n",
              "0       2745  180976  ...    72.871986  POINT (37.37757 72.83256)\n",
              "1      14974  180976  ...    72.871986  POINT (37.36878 72.80946)\n",
              "2     115325  180976  ...    72.871986  POINT (37.37420 72.82796)\n",
              "3       1648  180976  ...    72.871986  POINT (37.36915 72.81532)\n",
              "4      72496  180976  ...    72.871986  POINT (37.37690 72.83404)\n",
              "..       ...     ...  ...          ...                        ...\n",
              "95     76783  180976  ...    72.871986  POINT (37.41443 72.83621)\n",
              "96     83098  180976  ...    72.871986  POINT (37.39687 72.82119)\n",
              "97     68794  180976  ...    72.871986  POINT (37.39462 72.85123)\n",
              "98    120864  180976  ...    72.871986  POINT (37.40589 72.82324)\n",
              "99     68778  180976  ...    72.871986  POINT (37.40257 72.85346)\n",
              "\n",
              "[100 rows x 9 columns]"
            ]
          },
          "metadata": {
            "tags": []
          },
          "execution_count": 28
        }
      ]
    },
    {
      "cell_type": "code",
      "metadata": {
        "id": "apyq7llfnzRJ"
      },
      "source": [
        "coo = [Point(xy) for xy in zip(test['CUSTOMER_LAT'], test['CUSTOMER_LNG'])]\n",
        "coodel = [Point(xy) for xy in zip(test['DE_HOME_LAT'], test['DE_HOME_LNG'])]"
      ],
      "execution_count": null,
      "outputs": []
    },
    {
      "cell_type": "code",
      "metadata": {
        "id": "LMHEIBrJnzNm"
      },
      "source": [
        "gdfCustomer = gpd.GeoDataFrame(\n",
        "    test, geometry=coo\n",
        ")\n",
        "gdfDelivery = gpd.GeoDataFrame(\n",
        "    test, geometry=coodel\n",
        ")"
      ],
      "execution_count": null,
      "outputs": []
    },
    {
      "cell_type": "code",
      "metadata": {
        "id": "c6nVrYRBpVib"
      },
      "source": [
        ""
      ],
      "execution_count": null,
      "outputs": []
    },
    {
      "cell_type": "code",
      "metadata": {
        "id": "vdsuqZNfbKyX"
      },
      "source": [
        "world = gpd.read_file(\n",
        "    gpd.datasets.get_path('naturalearth_lowres')\n",
        ")"
      ],
      "execution_count": null,
      "outputs": []
    },
    {
      "cell_type": "code",
      "metadata": {
        "colab": {
          "base_uri": "https://localhost:8080/",
          "height": 174
        },
        "id": "QhwtNGoEga8-",
        "outputId": "e4e2a539-92e5-4601-fbbb-380e71b0e846"
      },
      "source": [
        "reject_ind"
      ],
      "execution_count": null,
      "outputs": [
        {
          "output_type": "error",
          "ename": "NameError",
          "evalue": "ignored",
          "traceback": [
            "\u001b[0;31m---------------------------------------------------------------------------\u001b[0m",
            "\u001b[0;31mNameError\u001b[0m                                 Traceback (most recent call last)",
            "\u001b[0;32m<ipython-input-19-23f146390156>\u001b[0m in \u001b[0;36m<module>\u001b[0;34m()\u001b[0m\n\u001b[0;32m----> 1\u001b[0;31m \u001b[0mreject_ind\u001b[0m\u001b[0;34m\u001b[0m\u001b[0;34m\u001b[0m\u001b[0m\n\u001b[0m",
            "\u001b[0;31mNameError\u001b[0m: name 'reject_ind' is not defined"
          ]
        }
      ]
    },
    {
      "cell_type": "code",
      "metadata": {
        "colab": {
          "base_uri": "https://localhost:8080/",
          "height": 375
        },
        "id": "0GXf9y7ngjj1",
        "outputId": "d535c04f-55cf-4b48-c8ba-17936e6b36ea"
      },
      "source": [
        "ax = gplt.webmap(world[world.name == \"India\"], projection=gcrs.WebMercator())\n",
        "gplt.pointplot(gdf, ax=ax, hue='reject_ind')"
      ],
      "execution_count": null,
      "outputs": [
        {
          "output_type": "execute_result",
          "data": {
            "text/plain": [
              "<cartopy.mpl.geoaxes.GeoAxesSubplot at 0x7fc575f87490>"
            ]
          },
          "metadata": {
            "tags": []
          },
          "execution_count": 34
        },
        {
          "output_type": "display_data",
          "data": {
            "image/png": "[encoded data removed]",
            "text/plain": [
              "<Figure size 576x432 with 1 Axes>"
            ]
          },
          "metadata": {
            "tags": []
          }
        }
      ]
    },
    {
      "cell_type": "code",
      "metadata": {
        "colab": {
          "background_save": true
        },
        "id": "1TniF-XwbLbO"
      },
      "source": [
        "ax = gplt.polyplot(world, figsize=(50, 50))\n",
        "gplt.pointplot(gdf, ax=ax)"
      ],
      "execution_count": null,
      "outputs": []
    },
    {
      "cell_type": "code",
      "metadata": {
        "colab": {
          "base_uri": "https://localhost:8080/"
        },
        "id": "ASL7LTZj1Ipm",
        "outputId": "83c4a9ee-fafe-4aac-d616-df705a507227"
      },
      "source": [
        ""
      ],
      "execution_count": null,
      "outputs": [
        {
          "output_type": "execute_result",
          "data": {
            "text/plain": [
              "<matplotlib.axes._subplots.AxesSubplot at 0x7fb1a801ea10>"
            ]
          },
          "metadata": {
            "tags": []
          },
          "execution_count": 17
        }
      ]
    },
    {
      "cell_type": "code",
      "metadata": {
        "id": "doVAUryN1IdH"
      },
      "source": [
        "plt.show()"
      ],
      "execution_count": null,
      "outputs": []
    },
    {
      "cell_type": "code",
      "metadata": {
        "colab": {
          "base_uri": "https://localhost:8080/"
        },
        "id": "-Z0zV6CMhwSO",
        "outputId": "0bf76e29-af3d-45a3-ff1e-fff810a1f047"
      },
      "source": [
        "gplt.pointplot(gdf, ax=ax)"
      ],
      "execution_count": null,
      "outputs": [
        {
          "output_type": "execute_result",
          "data": {
            "text/plain": [
              "<matplotlib.axes._subplots.AxesSubplot at 0x7fc586b29e10>"
            ]
          },
          "metadata": {
            "tags": []
          },
          "execution_count": 19
        }
      ]
    },
    {
      "cell_type": "code",
      "metadata": {
        "colab": {
          "base_uri": "https://localhost:8080/",
          "height": 54
        },
        "id": "iN4Sbwhkw0qy",
        "outputId": "f29a8ce9-7982-4b83-ebe6-8dc04a97da4e"
      },
      "source": [
        "world[world.name == \"India\"].plot(edgecolor=u'gray', color='red', ax=ax)"
      ],
      "execution_count": null,
      "outputs": [
        {
          "output_type": "execute_result",
          "data": {
            "text/plain": [
              "<matplotlib.axes._subplots.AxesSubplot at 0x7fc586b29e10>"
            ]
          },
          "metadata": {
            "tags": []
          },
          "execution_count": 16
        },
        {
          "output_type": "display_data",
          "data": {
            "text/plain": [
              "<Figure size 432x288 with 0 Axes>"
            ]
          },
          "metadata": {
            "tags": []
          }
        }
      ]
    },
    {
      "cell_type": "code",
      "metadata": {
        "id": "_JAArGFgxh1M"
      },
      "source": [
        "\n",
        "\n",
        "# ax = gplt.webmap(world, projection=gcrs.WebMercator())\n"
      ],
      "execution_count": null,
      "outputs": []
    },
    {
      "cell_type": "code",
      "metadata": {
        "id": "VhpKjpS9yrOw"
      },
      "source": [
        "ax = gplt.webmap(world[world.continent == 'Asia'], projection=gcrs.WebMercator())\n",
        "gplt.pointplot(world, ax=ax)"
      ],
      "execution_count": null,
      "outputs": []
    },
    {
      "cell_type": "code",
      "metadata": {
        "colab": {
          "base_uri": "https://localhost:8080/",
          "height": 266
        },
        "id": "EES6YrejijWN",
        "outputId": "e840184e-43f6-4b84-ee2f-747805ad7d12"
      },
      "source": [
        "fig, ax = plt.subplots()\n",
        "ax.set_aspect('equal')\n",
        "\n",
        "  # world.plot(ax=ax, color='white', edgecolor='black')\n",
        "contiguous_usa = gpd.read_file(gplt.datasets.get_path('contiguous_usa'))\n",
        "gplt.polyplot(contiguous_usa)\n",
        "gplt.pointplot(gdf, ax=ax)\n",
        "# gdf.plot(ax=ax, marker='o', color='white', edgecolor='black')\n"
      ],
      "execution_count": null,
      "outputs": [
        {
          "output_type": "execute_result",
          "data": {
            "text/plain": [
              "<matplotlib.axes._subplots.AxesSubplot at 0x7f2090f48e10>"
            ]
          },
          "metadata": {
            "tags": []
          },
          "execution_count": 15
        },
        {
          "output_type": "display_data",
          "data": {
            "image/png": "[encoded data removed]",
            "text/plain": [
              "<Figure size 432x288 with 1 Axes>"
            ]
          },
          "metadata": {
            "tags": []
          }
        }
      ]
    },
    {
      "cell_type": "code",
      "metadata": {
        "id": "oSlqoXTFijS4"
      },
      "source": [
        ""
      ],
      "execution_count": null,
      "outputs": []
    },
    {
      "cell_type": "code",
      "metadata": {
        "id": "HDDGOLuthCqz"
      },
      "source": [
        "import geoplot.crs as gcrs"
      ],
      "execution_count": null,
      "outputs": []
    },
    {
      "cell_type": "code",
      "metadata": {
        "id": "wZDA9XrGih_f"
      },
      "source": [
        "%matplotlib inline\n",
        "import geopandas as gpd\n",
        "import geoplot as gplt\n",
        "\n",
        "world = gpd.read_file(\n",
        "    gpd.datasets.get_path('naturalearth_lowres')\n",
        ")"
      ],
      "execution_count": null,
      "outputs": []
    },
    {
      "cell_type": "code",
      "metadata": {
        "id": "d0A54AvAiz5D"
      },
      "source": [
        "world = gpd.read_file(\n",
        "    gpd.datasets.get_path('naturalearth_lowres')\n",
        ")"
      ],
      "execution_count": null,
      "outputs": []
    },
    {
      "cell_type": "code",
      "metadata": {
        "id": "HPjvJs69ijBy"
      },
      "source": [
        ""
      ],
      "execution_count": null,
      "outputs": []
    },
    {
      "cell_type": "code",
      "metadata": {
        "id": "4_evMxYBii-o"
      },
      "source": [
        ""
      ],
      "execution_count": null,
      "outputs": []
    },
    {
      "cell_type": "code",
      "metadata": {
        "colab": {
          "base_uri": "https://localhost:8080/"
        },
        "id": "YU8DOuwScUt_",
        "outputId": "5d9abe8a-bec6-4a9e-ada6-640b5403cfbd"
      },
      "source": [
        "world = gpd.read_file(\n",
        "    gpd.datasets.get_path('naturalearth_lowres')\n",
        ")\n",
        "ax = gplt.webmap(world, projection=gcrs.WebMercator())\n",
        "gdf.pointplot(\n",
        "    ax=ax\n",
        ")"
      ],
      "execution_count": null,
      "outputs": [
        {
          "output_type": "stream",
          "text": [
            "Geometry must be a Point or LineString\n"
          ],
          "name": "stderr"
        }
      ]
    },
    {
      "cell_type": "code",
      "metadata": {
        "id": "6ZadghMQbLXW"
      },
      "source": [
        "india = world.query('continent == \"India\"')\n",
        "ax = gplt.cartogram(\n",
        "    india, scale='pop_est', limits=(0.2, 1),\n",
        "    edgecolor='None', figsize=(7, 8)\n",
        ")\n",
        "gplt.polyplot(india, edgecolor='gray', ax=ax)"
      ],
      "execution_count": null,
      "outputs": []
    },
    {
      "cell_type": "code",
      "metadata": {
        "id": "j0Szggj6bLUB"
      },
      "source": [
        ""
      ],
      "execution_count": null,
      "outputs": []
    }
  ]
}